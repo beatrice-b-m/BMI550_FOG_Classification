{
 "cells": [
  {
   "cell_type": "code",
   "execution_count": 1,
   "id": "88f15386",
   "metadata": {},
   "outputs": [
    {
     "name": "stdout",
     "output_type": "stream",
     "text": [
      "new device type: DeviceType.device\n"
     ]
    }
   ],
   "source": [
    "import os\n",
    "import pandas as pd\n",
    "os.environ[\"CUDA_VISIBLE_DEVICES\"]=\"6\"\n",
    "from cuml.naive_bayes import GaussianNB\n",
    "from cuml.common.device_selection import set_global_device_type, get_global_device_type\n",
    "from model.tuning import *\n",
    "\n",
    "set_global_device_type('gpu')\n",
    "print('new device type:', get_global_device_type())\n",
    "\n",
    "from model.testing import *"
   ]
  },
  {
   "cell_type": "code",
   "execution_count": 2,
   "id": "fbc46674",
   "metadata": {},
   "outputs": [],
   "source": [
    "# load data\n",
    "train_val_path = \"./data/fallreports_2023-9-21_train.csv\"\n",
    "test_path = \"./data/fallreports_2023-9-21_test.csv\"\n",
    "train_val_df = pd.read_csv(train_val_path)\n",
    "test_df = pd.read_csv(test_path)"
   ]
  },
  {
   "cell_type": "code",
   "execution_count": 3,
   "id": "e1047e4b",
   "metadata": {},
   "outputs": [],
   "source": [
    "# define parameters\n",
    "target_feature = 'fog_q_class'\n",
    "ngram_list = [1, 2]\n",
    "n_features = 250\n",
    "vector_type = 'tf-idf'\n",
    "augment_dict = {\n",
    "    'token_length': True, \n",
    "    'patient_demographics': True, \n",
    "    'mds_updrs': True,\n",
    "    'moca': True\n",
    "}"
   ]
  },
  {
   "cell_type": "code",
   "execution_count": 4,
   "id": "0838309a",
   "metadata": {},
   "outputs": [
    {
     "name": "stdout",
     "output_type": "stream",
     "text": [
      "\n",
      "train metrics: ------------------------------\n",
      "\n",
      "Accuracy: 0.8696\n",
      "Precision: 0.9817\n",
      "Recall: 0.7431\n",
      "F1-Score: 0.8458\n",
      "\n",
      "test metrics: ------------------------------\n",
      "\n",
      "Accuracy: 0.6056\n",
      "Precision: 0.6400\n",
      "Recall: 0.4571\n",
      "F1-Score: 0.5333\n"
     ]
    }
   ],
   "source": [
    "model = GaussianNB()\n",
    "\n",
    "gnb_eval_obj = train_model(\n",
    "    model, \n",
    "    train_val_df, \n",
    "    test_df, \n",
    "    target_feature=target_feature, \n",
    "    ngram_list=ngram_list, \n",
    "    n_features=n_features, \n",
    "    vector_type=vector_type, \n",
    "    augment_dict=augment_dict, \n",
    "    verbose=True\n",
    ")"
   ]
  },
  {
   "cell_type": "code",
   "execution_count": null,
   "id": "21e85cfd",
   "metadata": {},
   "outputs": [],
   "source": []
  },
  {
   "cell_type": "code",
   "execution_count": null,
   "id": "8681eb92",
   "metadata": {},
   "outputs": [],
   "source": []
  },
  {
   "cell_type": "code",
   "execution_count": 5,
   "id": "c2fd8df3",
   "metadata": {},
   "outputs": [],
   "source": [
    "from sklearn.ensemble import VotingClassifier\n",
    "from cuml.ensemble import RandomForestClassifier\n",
    "# from cuml import SGD\n",
    "from cuml import LogisticRegression"
   ]
  },
  {
   "cell_type": "code",
   "execution_count": 6,
   "id": "ec5a5a3b",
   "metadata": {},
   "outputs": [],
   "source": [
    "# using best hyperparameters found during optimization\n",
    "rfc_lr_dict = {\n",
    "    'max_depth': 25.518664071950102, \n",
    "    'n_estimators': 306.22402602953844, \n",
    "    'C': 95.34740492076249, \n",
    "    'l1_ratio': 0.34681920586406, \n",
    "    'penalty': 'l2',\n",
    "    'rfc_weight': 0.6\n",
    "}\n",
    "\n",
    "def ensemble_classifier(max_depth, n_estimators, C, l1_ratio, penalty, rfc_weight):\n",
    "    # define classifiers\n",
    "    rfc = RandomForestClassifier(max_depth=max_depth, n_estimators=n_estimators)\n",
    "    lr = LogisticRegression(C=C, l1_ratio=l1_ratio, penalty=penalty)\n",
    "    \n",
    "    # define voting ensemble\n",
    "    voting_model = VotingClassifier(\n",
    "        estimators=[\n",
    "            ('rfc', rfc), \n",
    "            ('lr', lr),\n",
    "        ],\n",
    "        voting='soft',\n",
    "        weights=[rfc_weight, 1.0 - rfc_weight],\n",
    "    )\n",
    "    return voting_model"
   ]
  },
  {
   "cell_type": "code",
   "execution_count": 7,
   "id": "8917d3ff",
   "metadata": {},
   "outputs": [
    {
     "name": "stdout",
     "output_type": "stream",
     "text": [
      "\n",
      "train metrics: ------------------------------\n",
      "\n",
      "Accuracy: 0.9967\n",
      "Precision: 0.9931\n",
      "Recall: 1.0000\n",
      "F1-Score: 0.9965\n",
      "\n",
      "test metrics: ------------------------------\n",
      "\n",
      "Accuracy: 0.9014\n",
      "Precision: 0.8889\n",
      "Recall: 0.9143\n",
      "F1-Score: 0.9014\n"
     ]
    }
   ],
   "source": [
    "voting_eval_obj = train_model(\n",
    "    ensemble_classifier(**rfc_lr_dict), \n",
    "    train_val_df, \n",
    "    test_df, \n",
    "    target_feature=target_feature, \n",
    "    ngram_list=ngram_list, \n",
    "    n_features=n_features, \n",
    "    vector_type=vector_type, \n",
    "    augment_dict=augment_dict, \n",
    "    verbose=True\n",
    ")"
   ]
  },
  {
   "cell_type": "code",
   "execution_count": 14,
   "id": "39779401",
   "metadata": {},
   "outputs": [
    {
     "name": "stdout",
     "output_type": "stream",
     "text": [
      "[W] [18:12:00.368848] QWL-QN: max iterations reached\n",
      "[W] [18:12:00.368938] Maximum iterations reached before solver is converged. To increase model accuracy you can increase the number of iterations (max_iter) or improve the scaling of the input data.\n",
      "\n",
      "train metrics: ------------------------------\n",
      "\n",
      "Accuracy: 1.0000\n",
      "Precision: 1.0000\n",
      "Recall: 1.0000\n",
      "F1-Score: 1.0000\n",
      "\n",
      "test metrics: ------------------------------\n",
      "\n",
      "Accuracy: 0.8873\n",
      "Precision: 0.8857\n",
      "Recall: 0.8857\n",
      "F1-Score: 0.8857\n"
     ]
    }
   ],
   "source": [
    "ensemble_best_param_dict = {\n",
    "    'C': 2045.7891312130546,\n",
    "    'l1_ratio': 0.049833394439413,\n",
    "    'max_depth': 48.12718850106587,\n",
    "    'n_estimators': 97.06033604146855,\n",
    "    'penalty': 'elasticnet',\n",
    "    'rfc_weight': 0.855137554079295\n",
    "}\n",
    "\n",
    "augment_dict = {\n",
    "    'token_length': True, \n",
    "    'patient_demographics': True, \n",
    "    'mds_updrs': True,\n",
    "    'moca': True\n",
    "}\n",
    "\n",
    "voting_eval_obj = train_model(\n",
    "    ensemble_classifier(**ensemble_best_param_dict), \n",
    "    train_val_df, \n",
    "    test_df, \n",
    "    target_feature=target_feature, \n",
    "    ngram_list=ngram_list, \n",
    "    n_features=n_features, \n",
    "    vector_type=vector_type, \n",
    "    augment_dict=augment_dict, \n",
    "    verbose=True\n",
    ")"
   ]
  },
  {
   "cell_type": "code",
   "execution_count": 15,
   "id": "dd3868e5",
   "metadata": {},
   "outputs": [
    {
     "name": "stdout",
     "output_type": "stream",
     "text": [
      "\n",
      "train metrics: ------------------------------\n",
      "\n",
      "Accuracy: 1.0000\n",
      "Precision: 1.0000\n",
      "Recall: 1.0000\n",
      "F1-Score: 1.0000\n",
      "\n",
      "test metrics: ------------------------------\n",
      "\n",
      "Accuracy: 0.8028\n",
      "Precision: 0.8000\n",
      "Recall: 0.8000\n",
      "F1-Score: 0.8000\n"
     ]
    }
   ],
   "source": [
    "augment_dict = {\n",
    "    'token_length': False, \n",
    "    'patient_demographics': False, \n",
    "    'mds_updrs': True,\n",
    "    'moca': True\n",
    "}\n",
    "\n",
    "voting_eval_obj = train_model(\n",
    "    ensemble_classifier(**ensemble_best_param_dict), \n",
    "    train_val_df, \n",
    "    test_df, \n",
    "    target_feature=target_feature, \n",
    "    ngram_list=ngram_list, \n",
    "    n_features=n_features, \n",
    "    vector_type=vector_type, \n",
    "    augment_dict=augment_dict, \n",
    "    verbose=True\n",
    ")"
   ]
  },
  {
   "cell_type": "code",
   "execution_count": null,
   "id": "0e41db29",
   "metadata": {},
   "outputs": [],
   "source": []
  }
 ],
 "metadata": {
  "kernelspec": {
   "display_name": "rapids",
   "language": "python",
   "name": "rapids"
  },
  "language_info": {
   "codemirror_mode": {
    "name": "ipython",
    "version": 3
   },
   "file_extension": ".py",
   "mimetype": "text/x-python",
   "name": "python",
   "nbconvert_exporter": "python",
   "pygments_lexer": "ipython3",
   "version": "3.9.18"
  }
 },
 "nbformat": 4,
 "nbformat_minor": 5
}
