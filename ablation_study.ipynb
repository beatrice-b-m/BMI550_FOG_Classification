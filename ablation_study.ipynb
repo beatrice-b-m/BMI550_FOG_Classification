{
 "cells": [
  {
   "cell_type": "code",
   "execution_count": 1,
   "id": "c97a4811",
   "metadata": {},
   "outputs": [
    {
     "name": "stdout",
     "output_type": "stream",
     "text": [
      "new device type: DeviceType.device\n"
     ]
    }
   ],
   "source": [
    "import os\n",
    "os.environ[\"CUDA_VISIBLE_DEVICES\"]=\"7\"\n",
    "from cuml.ensemble import RandomForestClassifier\n",
    "from cuml import LogisticRegression\n",
    "from sklearn.ensemble import VotingClassifier\n",
    "from cuml.common.device_selection import set_global_device_type, get_global_device_type\n",
    "from model.tuning import *\n",
    "from dataclasses import dataclass, asdict\n",
    "from itertools import product\n",
    "from tqdm import tqdm\n",
    "\n",
    "set_global_device_type('gpu')\n",
    "print('new device type:', get_global_device_type())"
   ]
  },
  {
   "cell_type": "code",
   "execution_count": 2,
   "id": "9b2476c8",
   "metadata": {},
   "outputs": [],
   "source": [
    "def ensemble_classifier(max_depth, n_estimators, C, l1_ratio, penalty, rfc_weight, n_bins: int = 128):\n",
    "    # define classifiers\n",
    "    rfc = RandomForestClassifier(max_depth=max_depth, n_estimators=n_estimators, n_bins=n_bins)\n",
    "    lr = LogisticRegression(C=C, l1_ratio=l1_ratio, penalty=penalty)\n",
    "    \n",
    "    # define voting ensemble\n",
    "    voting_model = VotingClassifier(\n",
    "        estimators=[\n",
    "            ('rfc', rfc), \n",
    "            ('lr', lr),\n",
    "        ],\n",
    "        voting='soft',\n",
    "        weights=[rfc_weight, 1.0-rfc_weight],\n",
    "    )\n",
    "    return voting_model\n",
    "\n",
    "@dataclass\n",
    "class AblationEvalObj:\n",
    "    token_length: bool\n",
    "    patient_demographics: bool\n",
    "    mds_updrs: bool\n",
    "    moca: bool\n",
    "    acc: float\n",
    "    micro_f1: float\n",
    "    macro_f1: float\n",
    "    dict = asdict"
   ]
  },
  {
   "cell_type": "code",
   "execution_count": 3,
   "id": "61087a2a",
   "metadata": {},
   "outputs": [],
   "source": [
    "# define model to optimize\n",
    "model_function = ensemble_classifier\n",
    "model_name = \"voting_ensemble\"\n",
    "\n",
    "# define hyperparameter ranges to search\n",
    "# we aren't optimizing hyperparams so we'll leave this blank\n",
    "hparam_range_dict = {}\n",
    "\n",
    "# define optimizer\n",
    "hparam_optimizer = HyperParamOptimizer(\n",
    "    model_function=model_function, \n",
    "    model_name=model_name, \n",
    "    hparam_range_dict=hparam_range_dict\n",
    ")"
   ]
  },
  {
   "cell_type": "code",
   "execution_count": 4,
   "id": "4b6d064f",
   "metadata": {},
   "outputs": [
    {
     "name": "stdout",
     "output_type": "stream",
     "text": [
      "Data loaded...\n"
     ]
    }
   ],
   "source": [
    "# load data into optimizer\n",
    "train_val_path = \"./data/fallreports_2023-9-21_train.csv\"\n",
    "test_path = \"./data/fallreports_2023-9-21_test.csv\"\n",
    "hparam_optimizer.load_data(\n",
    "    train_val_path=train_val_path, \n",
    "    test_path=test_path\n",
    ")"
   ]
  },
  {
   "cell_type": "code",
   "execution_count": 5,
   "id": "3e9d6680",
   "metadata": {},
   "outputs": [],
   "source": [
    "# set model parameters\n",
    "ngram_list = [1, 2]\n",
    "target_feature = 'fog_q_class'\n",
    "vector_type = 'tf-idf'\n",
    "n_features = 250\n",
    "seed = 13\n",
    "k = 5\n",
    "constant_dict = {}"
   ]
  },
  {
   "cell_type": "code",
   "execution_count": 6,
   "id": "f9577977",
   "metadata": {},
   "outputs": [
    {
     "name": "stderr",
     "output_type": "stream",
     "text": [
      "\r",
      "  0%|          | 0/48 [00:00<?, ?it/s]"
     ]
    },
    {
     "name": "stdout",
     "output_type": "stream",
     "text": [
      "\n",
      "Augmentations: {'token_length': True, 'patient_demographics': True, 'mds_updrs': True, 'moca': True}\n",
      "Parameters updated...\n",
      "Randomly sampling 5 sets with size -1 from train set...\n",
      "[W] [15:37:53.015226] QWL-QN: max iterations reached\n",
      "[W] [15:37:53.016017] Maximum iterations reached before solver is converged. To increase model accuracy you can increase the number of iterations (max_iter) or improve the scaling of the input data.\n",
      "[W] [15:37:57.727871] QWL-QN: max iterations reached\n",
      "[W] [15:37:57.728052] Maximum iterations reached before solver is converged. To increase model accuracy you can increase the number of iterations (max_iter) or improve the scaling of the input data.\n",
      "[W] [15:38:00.910103] QWL-QN: max iterations reached\n",
      "[W] [15:38:00.910200] Maximum iterations reached before solver is converged. To increase model accuracy you can increase the number of iterations (max_iter) or improve the scaling of the input data.\n",
      "[W] [15:38:05.645536] QWL-QN: max iterations reached\n",
      "[W] [15:38:05.645635] Maximum iterations reached before solver is converged. To increase model accuracy you can increase the number of iterations (max_iter) or improve the scaling of the input data.\n"
     ]
    },
    {
     "name": "stderr",
     "output_type": "stream",
     "text": [
      "\r",
      "  2%|▏         | 1/48 [00:27<21:15, 27.14s/it]"
     ]
    },
    {
     "name": "stdout",
     "output_type": "stream",
     "text": [
      "[W] [15:38:08.817514] QWL-QN: max iterations reached\n",
      "[W] [15:38:08.817688] Maximum iterations reached before solver is converged. To increase model accuracy you can increase the number of iterations (max_iter) or improve the scaling of the input data.\n",
      "\n",
      "Accuracy: 0.8676\n",
      "Micro-Averaged F1: 0.8646\n",
      "Macro-Averaged F1: 0.8639\n",
      "\n",
      "Augmentations: {'token_length': True, 'patient_demographics': True, 'mds_updrs': True, 'moca': False}\n",
      "Parameters updated...\n",
      "Randomly sampling 5 sets with size -1 from train set...\n",
      "[W] [15:38:13.500099] QWL-QN: max iterations reached\n",
      "[W] [15:38:13.500201] Maximum iterations reached before solver is converged. To increase model accuracy you can increase the number of iterations (max_iter) or improve the scaling of the input data.\n",
      "[W] [15:38:16.814978] QWL-QN: max iterations reached\n",
      "[W] [15:38:16.815122] Maximum iterations reached before solver is converged. To increase model accuracy you can increase the number of iterations (max_iter) or improve the scaling of the input data.\n",
      "[W] [15:38:20.013353] QWL-QN: max iterations reached\n",
      "[W] [15:38:20.013639] Maximum iterations reached before solver is converged. To increase model accuracy you can increase the number of iterations (max_iter) or improve the scaling of the input data.\n",
      "[W] [15:38:23.224041] QWL-QN: max iterations reached\n",
      "[W] [15:38:23.224726] Maximum iterations reached before solver is converged. To increase model accuracy you can increase the number of iterations (max_iter) or improve the scaling of the input data.\n"
     ]
    },
    {
     "name": "stderr",
     "output_type": "stream",
     "text": [
      "\r",
      "  4%|▍         | 2/48 [00:44<16:28, 21.48s/it]"
     ]
    },
    {
     "name": "stdout",
     "output_type": "stream",
     "text": [
      "[W] [15:38:26.337222] QWL-QN: max iterations reached\n",
      "[W] [15:38:26.337330] Maximum iterations reached before solver is converged. To increase model accuracy you can increase the number of iterations (max_iter) or improve the scaling of the input data.\n",
      "\n",
      "Accuracy: 0.8451\n",
      "Micro-Averaged F1: 0.8433\n",
      "Macro-Averaged F1: 0.8426\n",
      "\n",
      "Augmentations: {'token_length': True, 'patient_demographics': True, 'mds_updrs': False, 'moca': True}\n",
      "Parameters updated...\n",
      "Randomly sampling 5 sets with size -1 from train set...\n",
      "[W] [15:38:29.598721] QWL-QN: max iterations reached\n",
      "[W] [15:38:29.598923] Maximum iterations reached before solver is converged. To increase model accuracy you can increase the number of iterations (max_iter) or improve the scaling of the input data.\n",
      "[W] [15:38:32.647579] QWL-QN: max iterations reached\n",
      "[W] [15:38:32.647679] Maximum iterations reached before solver is converged. To increase model accuracy you can increase the number of iterations (max_iter) or improve the scaling of the input data.\n",
      "[W] [15:38:35.842457] QWL-QN: max iterations reached\n",
      "[W] [15:38:35.842668] Maximum iterations reached before solver is converged. To increase model accuracy you can increase the number of iterations (max_iter) or improve the scaling of the input data.\n",
      "[W] [15:38:39.072896] QWL-QN: max iterations reached\n",
      "[W] [15:38:39.073121] Maximum iterations reached before solver is converged. To increase model accuracy you can increase the number of iterations (max_iter) or improve the scaling of the input data.\n"
     ]
    },
    {
     "name": "stderr",
     "output_type": "stream",
     "text": [
      "\r",
      "  6%|▋         | 3/48 [01:00<14:13, 18.97s/it]"
     ]
    },
    {
     "name": "stdout",
     "output_type": "stream",
     "text": [
      "[W] [15:38:42.311463] QWL-QN: max iterations reached\n",
      "[W] [15:38:42.311622] Maximum iterations reached before solver is converged. To increase model accuracy you can increase the number of iterations (max_iter) or improve the scaling of the input data.\n",
      "\n",
      "Accuracy: 0.8986\n",
      "Micro-Averaged F1: 0.9006\n",
      "Macro-Averaged F1: 0.9006\n",
      "\n",
      "Augmentations: {'token_length': True, 'patient_demographics': True, 'mds_updrs': False, 'moca': False}\n",
      "Parameters updated...\n",
      "Randomly sampling 5 sets with size -1 from train set...\n",
      "[W] [15:38:45.466053] QWL-QN: max iterations reached\n",
      "[W] [15:38:45.466236] Maximum iterations reached before solver is converged. To increase model accuracy you can increase the number of iterations (max_iter) or improve the scaling of the input data.\n",
      "[W] [15:38:48.663168] QWL-QN: max iterations reached\n",
      "[W] [15:38:48.663318] Maximum iterations reached before solver is converged. To increase model accuracy you can increase the number of iterations (max_iter) or improve the scaling of the input data.\n",
      "[W] [15:38:51.867416] QWL-QN: max iterations reached\n",
      "[W] [15:38:51.867594] Maximum iterations reached before solver is converged. To increase model accuracy you can increase the number of iterations (max_iter) or improve the scaling of the input data.\n",
      "[W] [15:38:55.095718] QWL-QN: max iterations reached\n",
      "[W] [15:38:55.095952] Maximum iterations reached before solver is converged. To increase model accuracy you can increase the number of iterations (max_iter) or improve the scaling of the input data.\n"
     ]
    },
    {
     "name": "stderr",
     "output_type": "stream",
     "text": [
      "\r",
      "  8%|▊         | 4/48 [01:16<13:01, 17.77s/it]"
     ]
    },
    {
     "name": "stdout",
     "output_type": "stream",
     "text": [
      "[W] [15:38:58.281621] QWL-QN: max iterations reached\n",
      "[W] [15:38:58.281856] Maximum iterations reached before solver is converged. To increase model accuracy you can increase the number of iterations (max_iter) or improve the scaling of the input data.\n",
      "\n",
      "Accuracy: 0.8141\n",
      "Micro-Averaged F1: 0.8103\n",
      "Macro-Averaged F1: 0.8098\n",
      "\n",
      "Augmentations: {'token_length': True, 'patient_demographics': False, 'mds_updrs': True, 'moca': True}\n",
      "Parameters updated...\n",
      "Randomly sampling 5 sets with size -1 from train set...\n",
      "[W] [15:39:01.472344] QWL-QN: max iterations reached\n",
      "[W] [15:39:01.472508] Maximum iterations reached before solver is converged. To increase model accuracy you can increase the number of iterations (max_iter) or improve the scaling of the input data.\n",
      "[W] [15:39:04.711719] QWL-QN: max iterations reached\n",
      "[W] [15:39:04.711929] Maximum iterations reached before solver is converged. To increase model accuracy you can increase the number of iterations (max_iter) or improve the scaling of the input data.\n",
      "[W] [15:39:07.833534] QWL-QN: max iterations reached\n",
      "[W] [15:39:07.833692] Maximum iterations reached before solver is converged. To increase model accuracy you can increase the number of iterations (max_iter) or improve the scaling of the input data.\n",
      "[W] [15:39:11.049526] QWL-QN: max iterations reached\n",
      "[W] [15:39:11.049789] Maximum iterations reached before solver is converged. To increase model accuracy you can increase the number of iterations (max_iter) or improve the scaling of the input data.\n"
     ]
    },
    {
     "name": "stderr",
     "output_type": "stream",
     "text": [
      "\r",
      " 10%|█         | 5/48 [01:32<12:15, 17.11s/it]"
     ]
    },
    {
     "name": "stdout",
     "output_type": "stream",
     "text": [
      "\n",
      "Accuracy: 0.8085\n",
      "Micro-Averaged F1: 0.8023\n",
      "Macro-Averaged F1: 0.8025\n",
      "\n",
      "Augmentations: {'token_length': True, 'patient_demographics': False, 'mds_updrs': True, 'moca': False}\n",
      "Parameters updated...\n",
      "Randomly sampling 5 sets with size -1 from train set...\n"
     ]
    },
    {
     "name": "stderr",
     "output_type": "stream",
     "text": [
      "\r",
      " 12%|█▎        | 6/48 [01:48<11:40, 16.68s/it]"
     ]
    },
    {
     "name": "stdout",
     "output_type": "stream",
     "text": [
      "\n",
      "Accuracy: 0.6761\n",
      "Micro-Averaged F1: 0.6761\n",
      "Macro-Averaged F1: 0.6750\n",
      "\n",
      "Augmentations: {'token_length': True, 'patient_demographics': False, 'mds_updrs': False, 'moca': True}\n",
      "Parameters updated...\n",
      "Randomly sampling 5 sets with size -1 from train set...\n",
      "[W] [15:39:33.450809] QWL-QN: max iterations reached\n",
      "[W] [15:39:33.450919] Maximum iterations reached before solver is converged. To increase model accuracy you can increase the number of iterations (max_iter) or improve the scaling of the input data.\n",
      "[W] [15:39:36.628754] QWL-QN: max iterations reached\n",
      "[W] [15:39:36.628889] Maximum iterations reached before solver is converged. To increase model accuracy you can increase the number of iterations (max_iter) or improve the scaling of the input data.\n",
      "[W] [15:39:39.861215] QWL-QN: max iterations reached\n",
      "[W] [15:39:39.861398] Maximum iterations reached before solver is converged. To increase model accuracy you can increase the number of iterations (max_iter) or improve the scaling of the input data.\n",
      "[W] [15:39:43.020914] QWL-QN: max iterations reached\n",
      "[W] [15:39:43.021096] Maximum iterations reached before solver is converged. To increase model accuracy you can increase the number of iterations (max_iter) or improve the scaling of the input data.\n"
     ]
    },
    {
     "name": "stderr",
     "output_type": "stream",
     "text": [
      "\r",
      " 15%|█▍        | 7/48 [02:04<11:16, 16.51s/it]"
     ]
    },
    {
     "name": "stdout",
     "output_type": "stream",
     "text": [
      "\n",
      "Accuracy: 0.8113\n",
      "Micro-Averaged F1: 0.8035\n",
      "Macro-Averaged F1: 0.8035\n",
      "\n",
      "Augmentations: {'token_length': True, 'patient_demographics': False, 'mds_updrs': False, 'moca': False}\n",
      "Parameters updated...\n",
      "Randomly sampling 5 sets with size -1 from train set...\n"
     ]
    },
    {
     "name": "stderr",
     "output_type": "stream",
     "text": [
      "\r",
      " 17%|█▋        | 8/48 [02:20<10:50, 16.26s/it]"
     ]
    },
    {
     "name": "stdout",
     "output_type": "stream",
     "text": [
      "\n",
      "Accuracy: 0.6535\n",
      "Micro-Averaged F1: 0.6455\n",
      "Macro-Averaged F1: 0.6455\n",
      "\n",
      "Augmentations: {'token_length': False, 'patient_demographics': True, 'mds_updrs': True, 'moca': True}\n",
      "Parameters updated...\n",
      "Randomly sampling 5 sets with size -1 from train set...\n",
      "[W] [15:40:05.371757] QWL-QN: max iterations reached\n",
      "[W] [15:40:05.371899] Maximum iterations reached before solver is converged. To increase model accuracy you can increase the number of iterations (max_iter) or improve the scaling of the input data.\n",
      "[W] [15:40:08.691330] QWL-QN: max iterations reached\n",
      "[W] [15:40:08.691520] Maximum iterations reached before solver is converged. To increase model accuracy you can increase the number of iterations (max_iter) or improve the scaling of the input data.\n",
      "[W] [15:40:11.764045] QWL-QN: max iterations reached\n",
      "[W] [15:40:11.764140] Maximum iterations reached before solver is converged. To increase model accuracy you can increase the number of iterations (max_iter) or improve the scaling of the input data.\n",
      "[W] [15:40:14.951457] QWL-QN: max iterations reached\n",
      "[W] [15:40:14.951594] Maximum iterations reached before solver is converged. To increase model accuracy you can increase the number of iterations (max_iter) or improve the scaling of the input data.\n"
     ]
    },
    {
     "name": "stderr",
     "output_type": "stream",
     "text": [
      "\r",
      " 19%|█▉        | 9/48 [02:36<10:35, 16.29s/it]"
     ]
    },
    {
     "name": "stdout",
     "output_type": "stream",
     "text": [
      "[W] [15:40:18.284225] QWL-QN: max iterations reached\n",
      "[W] [15:40:18.284353] Maximum iterations reached before solver is converged. To increase model accuracy you can increase the number of iterations (max_iter) or improve the scaling of the input data.\n",
      "\n",
      "Accuracy: 0.8676\n",
      "Micro-Averaged F1: 0.8653\n",
      "Macro-Averaged F1: 0.8652\n",
      "\n",
      "Augmentations: {'token_length': False, 'patient_demographics': True, 'mds_updrs': True, 'moca': False}\n",
      "Parameters updated...\n",
      "Randomly sampling 5 sets with size -1 from train set...\n",
      "[W] [15:40:21.281990] QWL-QN: max iterations reached\n",
      "[W] [15:40:21.282148] Maximum iterations reached before solver is converged. To increase model accuracy you can increase the number of iterations (max_iter) or improve the scaling of the input data.\n",
      "[W] [15:40:24.433712] QWL-QN: max iterations reached\n",
      "[W] [15:40:24.433859] Maximum iterations reached before solver is converged. To increase model accuracy you can increase the number of iterations (max_iter) or improve the scaling of the input data.\n",
      "[W] [15:40:27.649442] QWL-QN: max iterations reached\n",
      "[W] [15:40:27.649704] Maximum iterations reached before solver is converged. To increase model accuracy you can increase the number of iterations (max_iter) or improve the scaling of the input data.\n",
      "[W] [15:40:30.819863] QWL-QN: max iterations reached\n",
      "[W] [15:40:30.820048] Maximum iterations reached before solver is converged. To increase model accuracy you can increase the number of iterations (max_iter) or improve the scaling of the input data.\n"
     ]
    },
    {
     "name": "stderr",
     "output_type": "stream",
     "text": [
      "\r",
      " 21%|██        | 10/48 [02:52<10:12, 16.12s/it]"
     ]
    },
    {
     "name": "stdout",
     "output_type": "stream",
     "text": [
      "[W] [15:40:34.018333] QWL-QN: max iterations reached\n",
      "[W] [15:40:34.018598] Maximum iterations reached before solver is converged. To increase model accuracy you can increase the number of iterations (max_iter) or improve the scaling of the input data.\n",
      "\n",
      "Accuracy: 0.8479\n",
      "Micro-Averaged F1: 0.8457\n",
      "Macro-Averaged F1: 0.8454\n",
      "\n",
      "Augmentations: {'token_length': False, 'patient_demographics': True, 'mds_updrs': False, 'moca': True}\n",
      "Parameters updated...\n",
      "Randomly sampling 5 sets with size -1 from train set...\n",
      "[W] [15:40:37.137885] QWL-QN: max iterations reached\n",
      "[W] [15:40:37.138094] Maximum iterations reached before solver is converged. To increase model accuracy you can increase the number of iterations (max_iter) or improve the scaling of the input data.\n",
      "[W] [15:40:40.335653] QWL-QN: max iterations reached\n",
      "[W] [15:40:40.335956] Maximum iterations reached before solver is converged. To increase model accuracy you can increase the number of iterations (max_iter) or improve the scaling of the input data.\n",
      "[W] [15:40:43.484804] QWL-QN: max iterations reached\n",
      "[W] [15:40:43.484978] Maximum iterations reached before solver is converged. To increase model accuracy you can increase the number of iterations (max_iter) or improve the scaling of the input data.\n",
      "[W] [15:40:46.669051] QWL-QN: max iterations reached\n",
      "[W] [15:40:46.669253] Maximum iterations reached before solver is converged. To increase model accuracy you can increase the number of iterations (max_iter) or improve the scaling of the input data.\n"
     ]
    },
    {
     "name": "stderr",
     "output_type": "stream",
     "text": [
      "\r",
      " 23%|██▎       | 11/48 [03:08<09:53, 16.04s/it]"
     ]
    },
    {
     "name": "stdout",
     "output_type": "stream",
     "text": [
      "[W] [15:40:49.877609] QWL-QN: max iterations reached\n",
      "[W] [15:40:49.877908] Maximum iterations reached before solver is converged. To increase model accuracy you can increase the number of iterations (max_iter) or improve the scaling of the input data.\n",
      "\n",
      "Accuracy: 0.8873\n",
      "Micro-Averaged F1: 0.8864\n",
      "Macro-Averaged F1: 0.8864\n",
      "\n",
      "Augmentations: {'token_length': False, 'patient_demographics': True, 'mds_updrs': False, 'moca': False}\n",
      "Parameters updated...\n",
      "Randomly sampling 5 sets with size -1 from train set...\n",
      "[W] [15:40:53.075408] QWL-QN: max iterations reached\n",
      "[W] [15:40:53.075662] Maximum iterations reached before solver is converged. To increase model accuracy you can increase the number of iterations (max_iter) or improve the scaling of the input data.\n",
      "[W] [15:40:56.255721] QWL-QN: max iterations reached\n",
      "[W] [15:40:56.255873] Maximum iterations reached before solver is converged. To increase model accuracy you can increase the number of iterations (max_iter) or improve the scaling of the input data.\n",
      "[W] [15:40:59.415150] QWL-QN: max iterations reached\n",
      "[W] [15:40:59.415375] Maximum iterations reached before solver is converged. To increase model accuracy you can increase the number of iterations (max_iter) or improve the scaling of the input data.\n",
      "[W] [15:41:02.606996] QWL-QN: max iterations reached\n",
      "[W] [15:41:02.607218] Maximum iterations reached before solver is converged. To increase model accuracy you can increase the number of iterations (max_iter) or improve the scaling of the input data.\n",
      "[W] [15:41:05.800213] QWL-QN: max iterations reached\n",
      "[W] [15:41:05.800808] Maximum iterations reached before solver is converged. To increase model accuracy you can increase the number of iterations (max_iter) or improve the scaling of the input data.\n",
      "\n",
      "Accuracy: 0.8085\n",
      "Micro-Averaged F1: 0.8012\n",
      "Macro-Averaged F1: 0.8001\n"
     ]
    },
    {
     "name": "stderr",
     "output_type": "stream",
     "text": [
      "\r",
      " 25%|██▌       | 12/48 [03:24<09:36, 16.00s/it]"
     ]
    },
    {
     "name": "stdout",
     "output_type": "stream",
     "text": [
      "\n",
      "Augmentations: {'token_length': False, 'patient_demographics': False, 'mds_updrs': True, 'moca': True}\n",
      "Parameters updated...\n",
      "Randomly sampling 5 sets with size -1 from train set...\n",
      "[W] [15:41:18.451896] QWL-QN: max iterations reached\n",
      "[W] [15:41:18.452075] Maximum iterations reached before solver is converged. To increase model accuracy you can increase the number of iterations (max_iter) or improve the scaling of the input data.\n"
     ]
    },
    {
     "name": "stderr",
     "output_type": "stream",
     "text": [
      "\r",
      " 27%|██▋       | 13/48 [03:40<09:18, 15.97s/it]"
     ]
    },
    {
     "name": "stdout",
     "output_type": "stream",
     "text": [
      "[W] [15:41:21.669670] QWL-QN: max iterations reached\n",
      "[W] [15:41:21.669766] Maximum iterations reached before solver is converged. To increase model accuracy you can increase the number of iterations (max_iter) or improve the scaling of the input data.\n",
      "\n",
      "Accuracy: 0.8197\n",
      "Micro-Averaged F1: 0.8118\n",
      "Macro-Averaged F1: 0.8122\n",
      "\n",
      "Augmentations: {'token_length': False, 'patient_demographics': False, 'mds_updrs': True, 'moca': False}\n",
      "Parameters updated...\n",
      "Randomly sampling 5 sets with size -1 from train set...\n"
     ]
    },
    {
     "name": "stderr",
     "output_type": "stream",
     "text": [
      "\r",
      " 29%|██▉       | 14/48 [03:55<08:58, 15.84s/it]"
     ]
    },
    {
     "name": "stdout",
     "output_type": "stream",
     "text": [
      "\n",
      "Accuracy: 0.7042\n",
      "Micro-Averaged F1: 0.6957\n",
      "Macro-Averaged F1: 0.6963\n",
      "\n",
      "Augmentations: {'token_length': False, 'patient_demographics': False, 'mds_updrs': False, 'moca': True}\n",
      "Parameters updated...\n",
      "Randomly sampling 5 sets with size -1 from train set...\n"
     ]
    },
    {
     "name": "stderr",
     "output_type": "stream",
     "text": [
      "\r",
      " 31%|███▏      | 15/48 [04:11<08:46, 15.96s/it]"
     ]
    },
    {
     "name": "stdout",
     "output_type": "stream",
     "text": [
      "\n",
      "Accuracy: 0.8254\n",
      "Micro-Averaged F1: 0.8229\n",
      "Macro-Averaged F1: 0.8229\n",
      "\n",
      "Augmentations: {'token_length': False, 'patient_demographics': False, 'mds_updrs': False, 'moca': False}\n",
      "Parameters updated...\n",
      "Randomly sampling 5 sets with size -1 from train set...\n"
     ]
    },
    {
     "name": "stderr",
     "output_type": "stream",
     "text": [
      "\r",
      " 33%|███▎      | 16/48 [04:27<08:27, 15.85s/it]"
     ]
    },
    {
     "name": "stdout",
     "output_type": "stream",
     "text": [
      "\n",
      "Accuracy: 0.6676\n",
      "Micro-Averaged F1: 0.6609\n",
      "Macro-Averaged F1: 0.6595\n",
      "\n",
      "Augmentations: {'token_length': True, 'patient_demographics': True, 'mds_updrs': True, 'moca': True}\n",
      "Parameters updated...\n",
      "Randomly sampling 5 sets with size -1 from train set...\n",
      "[W] [15:42:12.584221] QWL-QN: max iterations reached\n",
      "[W] [15:42:12.584442] Maximum iterations reached before solver is converged. To increase model accuracy you can increase the number of iterations (max_iter) or improve the scaling of the input data.\n",
      "[W] [15:42:15.728128] QWL-QN: max iterations reached\n",
      "[W] [15:42:15.728258] Maximum iterations reached before solver is converged. To increase model accuracy you can increase the number of iterations (max_iter) or improve the scaling of the input data.\n",
      "[W] [15:42:20.468780] QWL-QN: max iterations reached\n",
      "[W] [15:42:20.468907] Maximum iterations reached before solver is converged. To increase model accuracy you can increase the number of iterations (max_iter) or improve the scaling of the input data.\n",
      "[W] [15:42:25.137939] QWL-QN: max iterations reached\n",
      "[W] [15:42:25.138057] Maximum iterations reached before solver is converged. To increase model accuracy you can increase the number of iterations (max_iter) or improve the scaling of the input data.\n"
     ]
    },
    {
     "name": "stderr",
     "output_type": "stream",
     "text": [
      "\r",
      " 35%|███▌      | 17/48 [04:46<08:43, 16.90s/it]"
     ]
    },
    {
     "name": "stdout",
     "output_type": "stream",
     "text": [
      "[W] [15:42:28.422385] QWL-QN: max iterations reached\n",
      "[W] [15:42:28.422512] Maximum iterations reached before solver is converged. To increase model accuracy you can increase the number of iterations (max_iter) or improve the scaling of the input data.\n",
      "\n",
      "Accuracy: 0.8479\n",
      "Micro-Averaged F1: 0.8402\n",
      "Macro-Averaged F1: 0.8396\n",
      "\n",
      "Augmentations: {'token_length': True, 'patient_demographics': True, 'mds_updrs': True, 'moca': False}\n",
      "Parameters updated...\n",
      "Randomly sampling 5 sets with size -1 from train set...\n",
      "[W] [15:42:31.652541] QWL-QN: max iterations reached\n",
      "[W] [15:42:31.652707] Maximum iterations reached before solver is converged. To increase model accuracy you can increase the number of iterations (max_iter) or improve the scaling of the input data.\n",
      "[W] [15:42:36.459881] QWL-QN: max iterations reached\n",
      "[W] [15:42:36.459999] Maximum iterations reached before solver is converged. To increase model accuracy you can increase the number of iterations (max_iter) or improve the scaling of the input data.\n",
      "[W] [15:42:41.021598] QWL-QN: max iterations reached\n",
      "[W] [15:42:41.021824] Maximum iterations reached before solver is converged. To increase model accuracy you can increase the number of iterations (max_iter) or improve the scaling of the input data.\n",
      "[W] [15:42:44.499653] QWL-QN: max iterations reached\n",
      "[W] [15:42:44.499747] Maximum iterations reached before solver is converged. To increase model accuracy you can increase the number of iterations (max_iter) or improve the scaling of the input data.\n",
      "[W] [15:42:47.585336] QWL-QN: max iterations reached\n",
      "[W] [15:42:47.585444] Maximum iterations reached before solver is converged. To increase model accuracy you can increase the number of iterations (max_iter) or improve the scaling of the input data.\n"
     ]
    },
    {
     "name": "stderr",
     "output_type": "stream",
     "text": [
      "\r",
      " 38%|███▊      | 18/48 [05:06<08:55, 17.84s/it]"
     ]
    },
    {
     "name": "stdout",
     "output_type": "stream",
     "text": [
      "\n",
      "Accuracy: 0.8310\n",
      "Micro-Averaged F1: 0.8295\n",
      "Macro-Averaged F1: 0.8295\n",
      "\n",
      "Augmentations: {'token_length': True, 'patient_demographics': True, 'mds_updrs': False, 'moca': True}\n",
      "Parameters updated...\n",
      "Randomly sampling 5 sets with size -1 from train set...\n",
      "[W] [15:42:50.871397] QWL-QN: max iterations reached\n",
      "[W] [15:42:50.871516] Maximum iterations reached before solver is converged. To increase model accuracy you can increase the number of iterations (max_iter) or improve the scaling of the input data.\n",
      "[W] [15:42:55.500874] QWL-QN: max iterations reached\n",
      "[W] [15:42:55.501004] Maximum iterations reached before solver is converged. To increase model accuracy you can increase the number of iterations (max_iter) or improve the scaling of the input data.\n",
      "[W] [15:42:58.753363] QWL-QN: max iterations reached\n",
      "[W] [15:42:58.753711] Maximum iterations reached before solver is converged. To increase model accuracy you can increase the number of iterations (max_iter) or improve the scaling of the input data.\n",
      "[W] [15:43:03.428939] QWL-QN: max iterations reached\n",
      "[W] [15:43:03.429047] Maximum iterations reached before solver is converged. To increase model accuracy you can increase the number of iterations (max_iter) or improve the scaling of the input data.\n"
     ]
    },
    {
     "name": "stderr",
     "output_type": "stream",
     "text": [
      "\r",
      " 40%|███▉      | 19/48 [05:25<08:44, 18.08s/it]"
     ]
    },
    {
     "name": "stdout",
     "output_type": "stream",
     "text": [
      "\n",
      "Accuracy: 0.8789\n",
      "Micro-Averaged F1: 0.8789\n",
      "Macro-Averaged F1: 0.8788\n",
      "\n",
      "Augmentations: {'token_length': True, 'patient_demographics': True, 'mds_updrs': False, 'moca': False}\n",
      "Parameters updated...\n",
      "Randomly sampling 5 sets with size -1 from train set...\n",
      "[W] [15:43:11.152903] QWL-QN: max iterations reached\n",
      "[W] [15:43:11.153031] Maximum iterations reached before solver is converged. To increase model accuracy you can increase the number of iterations (max_iter) or improve the scaling of the input data.\n",
      "[W] [15:43:14.556272] QWL-QN: max iterations reached\n",
      "[W] [15:43:14.556625] Maximum iterations reached before solver is converged. To increase model accuracy you can increase the number of iterations (max_iter) or improve the scaling of the input data.\n",
      "[W] [15:43:17.705191] QWL-QN: max iterations reached\n",
      "[W] [15:43:17.705296] Maximum iterations reached before solver is converged. To increase model accuracy you can increase the number of iterations (max_iter) or improve the scaling of the input data.\n",
      "[W] [15:43:22.276058] QWL-QN: max iterations reached\n",
      "[W] [15:43:22.276323] Maximum iterations reached before solver is converged. To increase model accuracy you can increase the number of iterations (max_iter) or improve the scaling of the input data.\n",
      "[W] [15:43:25.656660] QWL-QN: max iterations reached\n",
      "[W] [15:43:25.656765] Maximum iterations reached before solver is converged. To increase model accuracy you can increase the number of iterations (max_iter) or improve the scaling of the input data.\n"
     ]
    },
    {
     "name": "stderr",
     "output_type": "stream",
     "text": [
      "\r",
      " 42%|████▏     | 20/48 [05:44<08:33, 18.33s/it]"
     ]
    },
    {
     "name": "stdout",
     "output_type": "stream",
     "text": [
      "\n",
      "Accuracy: 0.8197\n",
      "Micro-Averaged F1: 0.8118\n",
      "Macro-Averaged F1: 0.8113\n",
      "\n",
      "Augmentations: {'token_length': True, 'patient_demographics': False, 'mds_updrs': True, 'moca': True}\n",
      "Parameters updated...\n",
      "Randomly sampling 5 sets with size -1 from train set...\n",
      "[W] [15:43:30.365915] QWL-QN: max iterations reached\n",
      "[W] [15:43:30.366184] Maximum iterations reached before solver is converged. To increase model accuracy you can increase the number of iterations (max_iter) or improve the scaling of the input data.\n",
      "[W] [15:43:34.978135] QWL-QN: max iterations reached\n",
      "[W] [15:43:34.978253] Maximum iterations reached before solver is converged. To increase model accuracy you can increase the number of iterations (max_iter) or improve the scaling of the input data.\n",
      "[W] [15:43:43.189550] QWL-QN: max iterations reached\n",
      "[W] [15:43:43.189773] Maximum iterations reached before solver is converged. To increase model accuracy you can increase the number of iterations (max_iter) or improve the scaling of the input data.\n",
      "[W] [15:43:47.916646] QWL-QN: max iterations reached\n",
      "[W] [15:43:47.916879] Maximum iterations reached before solver is converged. To increase model accuracy you can increase the number of iterations (max_iter) or improve the scaling of the input data.\n"
     ]
    },
    {
     "name": "stderr",
     "output_type": "stream",
     "text": [
      "\r",
      " 44%|████▍     | 21/48 [06:07<08:51, 19.69s/it]"
     ]
    },
    {
     "name": "stdout",
     "output_type": "stream",
     "text": [
      "\n",
      "Accuracy: 0.7831\n",
      "Micro-Averaged F1: 0.7806\n",
      "Macro-Averaged F1: 0.7809\n",
      "\n",
      "Augmentations: {'token_length': True, 'patient_demographics': False, 'mds_updrs': True, 'moca': False}\n",
      "Parameters updated...\n",
      "Randomly sampling 5 sets with size -1 from train set...\n"
     ]
    },
    {
     "name": "stderr",
     "output_type": "stream",
     "text": [
      "\r",
      " 46%|████▌     | 22/48 [06:27<08:39, 19.99s/it]"
     ]
    },
    {
     "name": "stdout",
     "output_type": "stream",
     "text": [
      "\n",
      "Accuracy: 0.7042\n",
      "Micro-Averaged F1: 0.6974\n",
      "Macro-Averaged F1: 0.6974\n",
      "\n",
      "Augmentations: {'token_length': True, 'patient_demographics': False, 'mds_updrs': False, 'moca': True}\n",
      "Parameters updated...\n",
      "Randomly sampling 5 sets with size -1 from train set...\n",
      "[W] [15:44:27.571995] QWL-QN: max iterations reached\n",
      "[W] [15:44:27.572238] Maximum iterations reached before solver is converged. To increase model accuracy you can increase the number of iterations (max_iter) or improve the scaling of the input data.\n"
     ]
    },
    {
     "name": "stderr",
     "output_type": "stream",
     "text": [
      "\r",
      " 48%|████▊     | 23/48 [06:46<08:07, 19.52s/it]"
     ]
    },
    {
     "name": "stdout",
     "output_type": "stream",
     "text": [
      "\n",
      "Accuracy: 0.8141\n",
      "Micro-Averaged F1: 0.8059\n",
      "Macro-Averaged F1: 0.8063\n",
      "\n",
      "Augmentations: {'token_length': True, 'patient_demographics': False, 'mds_updrs': False, 'moca': False}\n",
      "Parameters updated...\n",
      "Randomly sampling 5 sets with size -1 from train set...\n"
     ]
    },
    {
     "name": "stderr",
     "output_type": "stream",
     "text": [
      "\r",
      " 50%|█████     | 24/48 [07:06<07:51, 19.63s/it]"
     ]
    },
    {
     "name": "stdout",
     "output_type": "stream",
     "text": [
      "\n",
      "Accuracy: 0.6648\n",
      "Micro-Averaged F1: 0.6551\n",
      "Macro-Averaged F1: 0.6553\n",
      "\n",
      "Augmentations: {'token_length': False, 'patient_demographics': True, 'mds_updrs': True, 'moca': True}\n",
      "Parameters updated...\n",
      "Randomly sampling 5 sets with size -1 from train set...\n",
      "[W] [15:44:51.492333] QWL-QN: max iterations reached\n",
      "[W] [15:44:51.492627] Maximum iterations reached before solver is converged. To increase model accuracy you can increase the number of iterations (max_iter) or improve the scaling of the input data.\n",
      "[W] [15:44:54.636261] QWL-QN: max iterations reached\n",
      "[W] [15:44:54.636525] Maximum iterations reached before solver is converged. To increase model accuracy you can increase the number of iterations (max_iter) or improve the scaling of the input data.\n",
      "[W] [15:44:59.388652] QWL-QN: max iterations reached\n",
      "[W] [15:44:59.388884] Maximum iterations reached before solver is converged. To increase model accuracy you can increase the number of iterations (max_iter) or improve the scaling of the input data.\n",
      "[W] [15:45:04.042083] QWL-QN: max iterations reached\n",
      "[W] [15:45:04.042184] Maximum iterations reached before solver is converged. To increase model accuracy you can increase the number of iterations (max_iter) or improve the scaling of the input data.\n",
      "[W] [15:45:07.474813] QWL-QN: max iterations reached\n",
      "[W] [15:45:07.474931] Maximum iterations reached before solver is converged. To increase model accuracy you can increase the number of iterations (max_iter) or improve the scaling of the input data.\n"
     ]
    },
    {
     "name": "stderr",
     "output_type": "stream",
     "text": [
      "\r",
      " 52%|█████▏    | 25/48 [07:26<07:35, 19.79s/it]"
     ]
    },
    {
     "name": "stdout",
     "output_type": "stream",
     "text": [
      "\n",
      "Accuracy: 0.8592\n",
      "Micro-Averaged F1: 0.8563\n",
      "Macro-Averaged F1: 0.8559\n",
      "\n",
      "Augmentations: {'token_length': False, 'patient_demographics': True, 'mds_updrs': True, 'moca': False}\n",
      "Parameters updated...\n",
      "Randomly sampling 5 sets with size -1 from train set...\n",
      "[W] [15:45:10.615031] QWL-QN: max iterations reached\n",
      "[W] [15:45:10.615132] Maximum iterations reached before solver is converged. To increase model accuracy you can increase the number of iterations (max_iter) or improve the scaling of the input data.\n",
      "[W] [15:45:15.270381] QWL-QN: max iterations reached\n",
      "[W] [15:45:15.270622] Maximum iterations reached before solver is converged. To increase model accuracy you can increase the number of iterations (max_iter) or improve the scaling of the input data.\n",
      "[W] [15:45:20.044806] QWL-QN: max iterations reached\n",
      "[W] [15:45:20.044976] Maximum iterations reached before solver is converged. To increase model accuracy you can increase the number of iterations (max_iter) or improve the scaling of the input data.\n",
      "[W] [15:45:23.498042] QWL-QN: max iterations reached\n",
      "[W] [15:45:23.498335] Maximum iterations reached before solver is converged. To increase model accuracy you can increase the number of iterations (max_iter) or improve the scaling of the input data.\n"
     ]
    },
    {
     "name": "stderr",
     "output_type": "stream",
     "text": [
      "\r",
      " 54%|█████▍    | 26/48 [07:44<07:06, 19.40s/it]"
     ]
    },
    {
     "name": "stdout",
     "output_type": "stream",
     "text": [
      "[W] [15:45:26.503170] QWL-QN: max iterations reached\n",
      "[W] [15:45:26.503488] Maximum iterations reached before solver is converged. To increase model accuracy you can increase the number of iterations (max_iter) or improve the scaling of the input data.\n",
      "\n",
      "Accuracy: 0.8563\n",
      "Micro-Averaged F1: 0.8539\n",
      "Macro-Averaged F1: 0.8535\n",
      "\n",
      "Augmentations: {'token_length': False, 'patient_demographics': True, 'mds_updrs': False, 'moca': True}\n",
      "Parameters updated...\n",
      "Randomly sampling 5 sets with size -1 from train set...\n",
      "[W] [15:45:29.689592] QWL-QN: max iterations reached\n",
      "[W] [15:45:29.689814] Maximum iterations reached before solver is converged. To increase model accuracy you can increase the number of iterations (max_iter) or improve the scaling of the input data.\n",
      "[W] [15:45:32.884665] QWL-QN: max iterations reached\n",
      "[W] [15:45:32.884892] Maximum iterations reached before solver is converged. To increase model accuracy you can increase the number of iterations (max_iter) or improve the scaling of the input data.\n",
      "[W] [15:45:36.067650] QWL-QN: max iterations reached\n",
      "[W] [15:45:36.067876] Maximum iterations reached before solver is converged. To increase model accuracy you can increase the number of iterations (max_iter) or improve the scaling of the input data.\n",
      "[W] [15:45:39.252110] QWL-QN: max iterations reached\n",
      "[W] [15:45:39.252243] Maximum iterations reached before solver is converged. To increase model accuracy you can increase the number of iterations (max_iter) or improve the scaling of the input data.\n"
     ]
    },
    {
     "name": "stderr",
     "output_type": "stream",
     "text": [
      "\r",
      " 56%|█████▋    | 27/48 [08:00<06:25, 18.34s/it]"
     ]
    },
    {
     "name": "stdout",
     "output_type": "stream",
     "text": [
      "\n",
      "Accuracy: 0.8789\n",
      "Micro-Averaged F1: 0.8761\n",
      "Macro-Averaged F1: 0.8753\n",
      "\n",
      "Augmentations: {'token_length': False, 'patient_demographics': True, 'mds_updrs': False, 'moca': False}\n",
      "Parameters updated...\n",
      "Randomly sampling 5 sets with size -1 from train set...\n",
      "[W] [15:45:45.635417] QWL-QN: max iterations reached\n",
      "[W] [15:45:45.635571] Maximum iterations reached before solver is converged. To increase model accuracy you can increase the number of iterations (max_iter) or improve the scaling of the input data.\n",
      "[W] [15:45:48.802620] QWL-QN: max iterations reached\n",
      "[W] [15:45:48.802834] Maximum iterations reached before solver is converged. To increase model accuracy you can increase the number of iterations (max_iter) or improve the scaling of the input data.\n",
      "[W] [15:45:51.926686] QWL-QN: max iterations reached\n",
      "[W] [15:45:51.926851] Maximum iterations reached before solver is converged. To increase model accuracy you can increase the number of iterations (max_iter) or improve the scaling of the input data.\n"
     ]
    },
    {
     "name": "stderr",
     "output_type": "stream",
     "text": [
      "\r",
      " 58%|█████▊    | 28/48 [08:16<05:52, 17.63s/it]"
     ]
    },
    {
     "name": "stdout",
     "output_type": "stream",
     "text": [
      "[W] [15:45:58.315524] QWL-QN: max iterations reached\n",
      "[W] [15:45:58.315671] Maximum iterations reached before solver is converged. To increase model accuracy you can increase the number of iterations (max_iter) or improve the scaling of the input data.\n",
      "\n",
      "Accuracy: 0.8507\n",
      "Micro-Averaged F1: 0.8473\n",
      "Macro-Averaged F1: 0.8473\n",
      "\n",
      "Augmentations: {'token_length': False, 'patient_demographics': False, 'mds_updrs': True, 'moca': True}\n",
      "Parameters updated...\n",
      "Randomly sampling 5 sets with size -1 from train set...\n"
     ]
    },
    {
     "name": "stderr",
     "output_type": "stream",
     "text": [
      "\r",
      " 60%|██████    | 29/48 [08:32<05:25, 17.12s/it]"
     ]
    },
    {
     "name": "stdout",
     "output_type": "stream",
     "text": [
      "\n",
      "Accuracy: 0.8141\n",
      "Micro-Averaged F1: 0.8103\n",
      "Macro-Averaged F1: 0.8104\n",
      "\n",
      "Augmentations: {'token_length': False, 'patient_demographics': False, 'mds_updrs': True, 'moca': False}\n",
      "Parameters updated...\n",
      "Randomly sampling 5 sets with size -1 from train set...\n"
     ]
    },
    {
     "name": "stderr",
     "output_type": "stream",
     "text": [
      "\r",
      " 62%|██████▎   | 30/48 [08:48<05:00, 16.69s/it]"
     ]
    },
    {
     "name": "stdout",
     "output_type": "stream",
     "text": [
      "\n",
      "Accuracy: 0.6930\n",
      "Micro-Averaged F1: 0.6841\n",
      "Macro-Averaged F1: 0.6841\n",
      "\n",
      "Augmentations: {'token_length': False, 'patient_demographics': False, 'mds_updrs': False, 'moca': True}\n",
      "Parameters updated...\n",
      "Randomly sampling 5 sets with size -1 from train set...\n",
      "[W] [15:46:39.775999] QWL-QN: max iterations reached\n",
      "[W] [15:46:39.776161] Maximum iterations reached before solver is converged. To increase model accuracy you can increase the number of iterations (max_iter) or improve the scaling of the input data.\n",
      "[W] [15:46:42.988561] QWL-QN: max iterations reached\n",
      "[W] [15:46:42.988759] Maximum iterations reached before solver is converged. To increase model accuracy you can increase the number of iterations (max_iter) or improve the scaling of the input data.\n"
     ]
    },
    {
     "name": "stderr",
     "output_type": "stream",
     "text": [
      "\r",
      " 65%|██████▍   | 31/48 [09:04<04:41, 16.55s/it]"
     ]
    },
    {
     "name": "stdout",
     "output_type": "stream",
     "text": [
      "[W] [15:46:46.162124] QWL-QN: max iterations reached\n",
      "[W] [15:46:46.162252] Maximum iterations reached before solver is converged. To increase model accuracy you can increase the number of iterations (max_iter) or improve the scaling of the input data.\n",
      "\n",
      "Accuracy: 0.8169\n",
      "Micro-Averaged F1: 0.8071\n",
      "Macro-Averaged F1: 0.8056\n",
      "\n",
      "Augmentations: {'token_length': False, 'patient_demographics': False, 'mds_updrs': False, 'moca': False}\n",
      "Parameters updated...\n",
      "Randomly sampling 5 sets with size -1 from train set...\n"
     ]
    },
    {
     "name": "stderr",
     "output_type": "stream",
     "text": [
      "\r",
      " 67%|██████▋   | 32/48 [09:19<04:19, 16.21s/it]"
     ]
    },
    {
     "name": "stdout",
     "output_type": "stream",
     "text": [
      "\n",
      "Accuracy: 0.6930\n",
      "Micro-Averaged F1: 0.6746\n",
      "Macro-Averaged F1: 0.6764\n",
      "\n",
      "Augmentations: {'token_length': True, 'patient_demographics': True, 'mds_updrs': True, 'moca': True}\n",
      "Parameters updated...\n",
      "Randomly sampling 5 sets with size -1 from train set...\n",
      "[W] [15:47:05.114748] QWL-QN: max iterations reached\n",
      "[W] [15:47:05.114925] Maximum iterations reached before solver is converged. To increase model accuracy you can increase the number of iterations (max_iter) or improve the scaling of the input data.\n",
      "[W] [15:47:08.402475] QWL-QN: max iterations reached\n",
      "[W] [15:47:08.402609] Maximum iterations reached before solver is converged. To increase model accuracy you can increase the number of iterations (max_iter) or improve the scaling of the input data.\n",
      "[W] [15:47:11.580561] QWL-QN: max iterations reached\n",
      "[W] [15:47:11.580736] Maximum iterations reached before solver is converged. To increase model accuracy you can increase the number of iterations (max_iter) or improve the scaling of the input data.\n",
      "[W] [15:47:14.708902] QWL-QN: max iterations reached\n",
      "[W] [15:47:14.708997] Maximum iterations reached before solver is converged. To increase model accuracy you can increase the number of iterations (max_iter) or improve the scaling of the input data.\n"
     ]
    },
    {
     "name": "stderr",
     "output_type": "stream",
     "text": [
      "\r",
      " 69%|██████▉   | 33/48 [09:36<04:03, 16.25s/it]"
     ]
    },
    {
     "name": "stdout",
     "output_type": "stream",
     "text": [
      "[W] [15:47:17.947631] QWL-QN: max iterations reached\n",
      "[W] [15:47:17.947761] Maximum iterations reached before solver is converged. To increase model accuracy you can increase the number of iterations (max_iter) or improve the scaling of the input data.\n",
      "\n",
      "Accuracy: 0.8732\n",
      "Micro-Averaged F1: 0.8696\n",
      "Macro-Averaged F1: 0.8698\n",
      "\n",
      "Augmentations: {'token_length': True, 'patient_demographics': True, 'mds_updrs': True, 'moca': False}\n",
      "Parameters updated...\n",
      "Randomly sampling 5 sets with size -1 from train set...\n",
      "[W] [15:47:21.062195] QWL-QN: max iterations reached\n",
      "[W] [15:47:21.062300] Maximum iterations reached before solver is converged. To increase model accuracy you can increase the number of iterations (max_iter) or improve the scaling of the input data.\n",
      "[W] [15:47:24.244531] QWL-QN: max iterations reached\n",
      "[W] [15:47:24.244652] Maximum iterations reached before solver is converged. To increase model accuracy you can increase the number of iterations (max_iter) or improve the scaling of the input data.\n",
      "[W] [15:47:28.964725] QWL-QN: max iterations reached\n",
      "[W] [15:47:28.964902] Maximum iterations reached before solver is converged. To increase model accuracy you can increase the number of iterations (max_iter) or improve the scaling of the input data.\n",
      "[W] [15:47:33.777224] QWL-QN: max iterations reached\n",
      "[W] [15:47:33.777313] Maximum iterations reached before solver is converged. To increase model accuracy you can increase the number of iterations (max_iter) or improve the scaling of the input data.\n",
      "[W] [15:47:38.494747] QWL-QN: max iterations reached\n",
      "[W] [15:47:38.494945] Maximum iterations reached before solver is converged. To increase model accuracy you can increase the number of iterations (max_iter) or improve the scaling of the input data.\n"
     ]
    },
    {
     "name": "stderr",
     "output_type": "stream",
     "text": [
      "\r",
      " 71%|███████   | 34/48 [09:57<04:09, 17.79s/it]"
     ]
    },
    {
     "name": "stdout",
     "output_type": "stream",
     "text": [
      "\n",
      "Accuracy: 0.8225\n",
      "Micro-Averaged F1: 0.8195\n",
      "Macro-Averaged F1: 0.8194\n",
      "\n",
      "Augmentations: {'token_length': True, 'patient_demographics': True, 'mds_updrs': False, 'moca': True}\n",
      "Parameters updated...\n",
      "Randomly sampling 5 sets with size -1 from train set...\n",
      "[W] [15:47:41.846123] QWL-QN: max iterations reached\n",
      "[W] [15:47:41.846283] Maximum iterations reached before solver is converged. To increase model accuracy you can increase the number of iterations (max_iter) or improve the scaling of the input data.\n",
      "[W] [15:47:44.949045] QWL-QN: max iterations reached\n",
      "[W] [15:47:44.949215] Maximum iterations reached before solver is converged. To increase model accuracy you can increase the number of iterations (max_iter) or improve the scaling of the input data.\n",
      "[W] [15:47:48.060911] QWL-QN: max iterations reached\n",
      "[W] [15:47:48.061211] Maximum iterations reached before solver is converged. To increase model accuracy you can increase the number of iterations (max_iter) or improve the scaling of the input data.\n",
      "[W] [15:47:52.738070] QWL-QN: max iterations reached\n",
      "[W] [15:47:52.738172] Maximum iterations reached before solver is converged. To increase model accuracy you can increase the number of iterations (max_iter) or improve the scaling of the input data.\n",
      "[W] [15:47:57.504401] QWL-QN: max iterations reached\n",
      "[W] [15:47:57.504610] Maximum iterations reached before solver is converged. To increase model accuracy you can increase the number of iterations (max_iter) or improve the scaling of the input data.\n"
     ]
    },
    {
     "name": "stderr",
     "output_type": "stream",
     "text": [
      "\r",
      " 73%|███████▎  | 35/48 [10:16<03:56, 18.17s/it]"
     ]
    },
    {
     "name": "stdout",
     "output_type": "stream",
     "text": [
      "\n",
      "Accuracy: 0.8761\n",
      "Micro-Averaged F1: 0.8728\n",
      "Macro-Averaged F1: 0.8725\n",
      "\n",
      "Augmentations: {'token_length': True, 'patient_demographics': True, 'mds_updrs': False, 'moca': False}\n",
      "Parameters updated...\n",
      "Randomly sampling 5 sets with size -1 from train set...\n",
      "[W] [15:48:02.265726] QWL-QN: max iterations reached\n",
      "[W] [15:48:02.265851] Maximum iterations reached before solver is converged. To increase model accuracy you can increase the number of iterations (max_iter) or improve the scaling of the input data.\n",
      "[W] [15:48:07.029583] QWL-QN: max iterations reached\n",
      "[W] [15:48:07.029782] Maximum iterations reached before solver is converged. To increase model accuracy you can increase the number of iterations (max_iter) or improve the scaling of the input data.\n",
      "[W] [15:48:10.224687] QWL-QN: max iterations reached\n",
      "[W] [15:48:10.224976] Maximum iterations reached before solver is converged. To increase model accuracy you can increase the number of iterations (max_iter) or improve the scaling of the input data.\n",
      "[W] [15:48:15.012018] QWL-QN: max iterations reached\n",
      "[W] [15:48:15.012150] Maximum iterations reached before solver is converged. To increase model accuracy you can increase the number of iterations (max_iter) or improve the scaling of the input data.\n",
      "[W] [15:48:19.750902] QWL-QN: max iterations reached\n",
      "[W] [15:48:19.751023] Maximum iterations reached before solver is converged. To increase model accuracy you can increase the number of iterations (max_iter) or improve the scaling of the input data.\n"
     ]
    },
    {
     "name": "stderr",
     "output_type": "stream",
     "text": [
      "\r",
      " 75%|███████▌  | 36/48 [10:39<03:53, 19.42s/it]"
     ]
    },
    {
     "name": "stdout",
     "output_type": "stream",
     "text": [
      "\n",
      "Accuracy: 0.8028\n",
      "Micro-Averaged F1: 0.7953\n",
      "Macro-Averaged F1: 0.7953\n",
      "\n",
      "Augmentations: {'token_length': True, 'patient_demographics': False, 'mds_updrs': True, 'moca': True}\n",
      "Parameters updated...\n",
      "Randomly sampling 5 sets with size -1 from train set...\n",
      "[W] [15:48:24.496648] QWL-QN: max iterations reached\n",
      "[W] [15:48:24.496796] Maximum iterations reached before solver is converged. To increase model accuracy you can increase the number of iterations (max_iter) or improve the scaling of the input data.\n",
      "[W] [15:48:27.595343] QWL-QN: max iterations reached\n",
      "[W] [15:48:27.595511] Maximum iterations reached before solver is converged. To increase model accuracy you can increase the number of iterations (max_iter) or improve the scaling of the input data.\n",
      "[W] [15:48:30.772111] QWL-QN: max iterations reached\n",
      "[W] [15:48:30.772267] Maximum iterations reached before solver is converged. To increase model accuracy you can increase the number of iterations (max_iter) or improve the scaling of the input data.\n",
      "[W] [15:48:35.548689] QWL-QN: max iterations reached\n",
      "[W] [15:48:35.548873] Maximum iterations reached before solver is converged. To increase model accuracy you can increase the number of iterations (max_iter) or improve the scaling of the input data.\n"
     ]
    },
    {
     "name": "stderr",
     "output_type": "stream",
     "text": [
      "\r",
      " 77%|███████▋  | 37/48 [10:57<03:29, 19.01s/it]"
     ]
    },
    {
     "name": "stdout",
     "output_type": "stream",
     "text": [
      "\n",
      "Accuracy: 0.8254\n",
      "Micro-Averaged F1: 0.8155\n",
      "Macro-Averaged F1: 0.8147\n",
      "\n",
      "Augmentations: {'token_length': True, 'patient_demographics': False, 'mds_updrs': True, 'moca': False}\n",
      "Parameters updated...\n",
      "Randomly sampling 5 sets with size -1 from train set...\n"
     ]
    },
    {
     "name": "stderr",
     "output_type": "stream",
     "text": [
      "\r",
      " 79%|███████▉  | 38/48 [11:15<03:09, 18.94s/it]"
     ]
    },
    {
     "name": "stdout",
     "output_type": "stream",
     "text": [
      "\n",
      "Accuracy: 0.6761\n",
      "Micro-Averaged F1: 0.6647\n",
      "Macro-Averaged F1: 0.6643\n",
      "\n",
      "Augmentations: {'token_length': True, 'patient_demographics': False, 'mds_updrs': False, 'moca': True}\n",
      "Parameters updated...\n",
      "Randomly sampling 5 sets with size -1 from train set...\n",
      "[W] [15:49:04.352592] QWL-QN: max iterations reached\n",
      "[W] [15:49:04.352896] Maximum iterations reached before solver is converged. To increase model accuracy you can increase the number of iterations (max_iter) or improve the scaling of the input data.\n",
      "[W] [15:49:07.486893] QWL-QN: max iterations reached\n",
      "[W] [15:49:07.487093] Maximum iterations reached before solver is converged. To increase model accuracy you can increase the number of iterations (max_iter) or improve the scaling of the input data.\n",
      "[W] [15:49:10.729547] QWL-QN: max iterations reached\n",
      "[W] [15:49:10.729803] Maximum iterations reached before solver is converged. To increase model accuracy you can increase the number of iterations (max_iter) or improve the scaling of the input data.\n"
     ]
    },
    {
     "name": "stderr",
     "output_type": "stream",
     "text": [
      "\r",
      " 81%|████████▏ | 39/48 [11:32<02:43, 18.20s/it]"
     ]
    },
    {
     "name": "stdout",
     "output_type": "stream",
     "text": [
      "[W] [15:49:13.975942] QWL-QN: max iterations reached\n",
      "[W] [15:49:13.976125] Maximum iterations reached before solver is converged. To increase model accuracy you can increase the number of iterations (max_iter) or improve the scaling of the input data.\n",
      "\n",
      "Accuracy: 0.7972\n",
      "Micro-Averaged F1: 0.7870\n",
      "Macro-Averaged F1: 0.7865\n",
      "\n",
      "Augmentations: {'token_length': True, 'patient_demographics': False, 'mds_updrs': False, 'moca': False}\n",
      "Parameters updated...\n",
      "Randomly sampling 5 sets with size -1 from train set...\n"
     ]
    },
    {
     "name": "stderr",
     "output_type": "stream",
     "text": [
      "\r",
      " 83%|████████▎ | 40/48 [11:47<02:19, 17.39s/it]"
     ]
    },
    {
     "name": "stdout",
     "output_type": "stream",
     "text": [
      "\n",
      "Accuracy: 0.6479\n",
      "Micro-Averaged F1: 0.6459\n",
      "Macro-Averaged F1: 0.6462\n",
      "\n",
      "Augmentations: {'token_length': False, 'patient_demographics': True, 'mds_updrs': True, 'moca': True}\n",
      "Parameters updated...\n",
      "Randomly sampling 5 sets with size -1 from train set...\n",
      "[W] [15:49:32.912176] QWL-QN: max iterations reached\n",
      "[W] [15:49:32.912312] Maximum iterations reached before solver is converged. To increase model accuracy you can increase the number of iterations (max_iter) or improve the scaling of the input data.\n",
      "[W] [15:49:36.136726] QWL-QN: max iterations reached\n",
      "[W] [15:49:36.136881] Maximum iterations reached before solver is converged. To increase model accuracy you can increase the number of iterations (max_iter) or improve the scaling of the input data.\n",
      "[W] [15:49:39.419144] QWL-QN: max iterations reached\n",
      "[W] [15:49:39.419275] Maximum iterations reached before solver is converged. To increase model accuracy you can increase the number of iterations (max_iter) or improve the scaling of the input data.\n",
      "[W] [15:49:42.582552] QWL-QN: max iterations reached\n",
      "[W] [15:49:42.582651] Maximum iterations reached before solver is converged. To increase model accuracy you can increase the number of iterations (max_iter) or improve the scaling of the input data.\n",
      "[W] [15:49:45.770080] QWL-QN: max iterations reached\n",
      "[W] [15:49:45.770177] Maximum iterations reached before solver is converged. To increase model accuracy you can increase the number of iterations (max_iter) or improve the scaling of the input data.\n"
     ]
    },
    {
     "name": "stderr",
     "output_type": "stream",
     "text": [
      "\r",
      " 85%|████████▌ | 41/48 [12:04<02:00, 17.18s/it]"
     ]
    },
    {
     "name": "stdout",
     "output_type": "stream",
     "text": [
      "\n",
      "Accuracy: 0.8845\n",
      "Micro-Averaged F1: 0.8845\n",
      "Macro-Averaged F1: 0.8843\n",
      "\n",
      "Augmentations: {'token_length': False, 'patient_demographics': True, 'mds_updrs': True, 'moca': False}\n",
      "Parameters updated...\n",
      "Randomly sampling 5 sets with size -1 from train set...\n",
      "[W] [15:49:49.017277] QWL-QN: max iterations reached\n",
      "[W] [15:49:49.017409] Maximum iterations reached before solver is converged. To increase model accuracy you can increase the number of iterations (max_iter) or improve the scaling of the input data.\n",
      "[W] [15:49:52.205111] QWL-QN: max iterations reached\n",
      "[W] [15:49:52.205277] Maximum iterations reached before solver is converged. To increase model accuracy you can increase the number of iterations (max_iter) or improve the scaling of the input data.\n",
      "[W] [15:49:55.400854] QWL-QN: max iterations reached\n",
      "[W] [15:49:55.401099] Maximum iterations reached before solver is converged. To increase model accuracy you can increase the number of iterations (max_iter) or improve the scaling of the input data.\n",
      "[W] [15:49:58.576980] QWL-QN: max iterations reached\n",
      "[W] [15:49:58.577156] Maximum iterations reached before solver is converged. To increase model accuracy you can increase the number of iterations (max_iter) or improve the scaling of the input data.\n"
     ]
    },
    {
     "name": "stderr",
     "output_type": "stream",
     "text": [
      "\r",
      " 88%|████████▊ | 42/48 [12:20<01:40, 16.70s/it]"
     ]
    },
    {
     "name": "stdout",
     "output_type": "stream",
     "text": [
      "[W] [15:50:01.763967] QWL-QN: max iterations reached\n",
      "[W] [15:50:01.764225] Maximum iterations reached before solver is converged. To increase model accuracy you can increase the number of iterations (max_iter) or improve the scaling of the input data.\n",
      "\n",
      "Accuracy: 0.8254\n",
      "Micro-Averaged F1: 0.8218\n",
      "Macro-Averaged F1: 0.8203\n",
      "\n",
      "Augmentations: {'token_length': False, 'patient_demographics': True, 'mds_updrs': False, 'moca': True}\n",
      "Parameters updated...\n",
      "Randomly sampling 5 sets with size -1 from train set...\n",
      "[W] [15:50:04.974851] QWL-QN: max iterations reached\n",
      "[W] [15:50:04.975002] Maximum iterations reached before solver is converged. To increase model accuracy you can increase the number of iterations (max_iter) or improve the scaling of the input data.\n",
      "[W] [15:50:08.188327] QWL-QN: max iterations reached\n",
      "[W] [15:50:08.188595] Maximum iterations reached before solver is converged. To increase model accuracy you can increase the number of iterations (max_iter) or improve the scaling of the input data.\n",
      "[W] [15:50:11.372205] QWL-QN: max iterations reached\n",
      "[W] [15:50:11.372422] Maximum iterations reached before solver is converged. To increase model accuracy you can increase the number of iterations (max_iter) or improve the scaling of the input data.\n",
      "[W] [15:50:14.604386] QWL-QN: max iterations reached\n",
      "[W] [15:50:14.604528] Maximum iterations reached before solver is converged. To increase model accuracy you can increase the number of iterations (max_iter) or improve the scaling of the input data.\n"
     ]
    },
    {
     "name": "stderr",
     "output_type": "stream",
     "text": [
      "\r",
      " 90%|████████▉ | 43/48 [12:36<01:22, 16.51s/it]"
     ]
    },
    {
     "name": "stdout",
     "output_type": "stream",
     "text": [
      "[W] [15:50:17.828884] QWL-QN: max iterations reached\n",
      "[W] [15:50:17.829049] Maximum iterations reached before solver is converged. To increase model accuracy you can increase the number of iterations (max_iter) or improve the scaling of the input data.\n",
      "\n",
      "Accuracy: 0.8986\n",
      "Micro-Averaged F1: 0.8989\n",
      "Macro-Averaged F1: 0.8982\n",
      "\n",
      "Augmentations: {'token_length': False, 'patient_demographics': True, 'mds_updrs': False, 'moca': False}\n",
      "Parameters updated...\n",
      "Randomly sampling 5 sets with size -1 from train set...\n",
      "[W] [15:50:21.000927] QWL-QN: max iterations reached\n",
      "[W] [15:50:21.001082] Maximum iterations reached before solver is converged. To increase model accuracy you can increase the number of iterations (max_iter) or improve the scaling of the input data.\n",
      "[W] [15:50:24.204683] QWL-QN: max iterations reached\n",
      "[W] [15:50:24.205074] Maximum iterations reached before solver is converged. To increase model accuracy you can increase the number of iterations (max_iter) or improve the scaling of the input data.\n",
      "[W] [15:50:27.396346] QWL-QN: max iterations reached\n",
      "[W] [15:50:27.396550] Maximum iterations reached before solver is converged. To increase model accuracy you can increase the number of iterations (max_iter) or improve the scaling of the input data.\n",
      "[W] [15:50:30.634117] QWL-QN: max iterations reached\n",
      "[W] [15:50:30.634319] Maximum iterations reached before solver is converged. To increase model accuracy you can increase the number of iterations (max_iter) or improve the scaling of the input data.\n"
     ]
    },
    {
     "name": "stderr",
     "output_type": "stream",
     "text": [
      "\r",
      " 92%|█████████▏| 44/48 [12:52<01:05, 16.36s/it]"
     ]
    },
    {
     "name": "stdout",
     "output_type": "stream",
     "text": [
      "[W] [15:50:33.863508] QWL-QN: max iterations reached\n",
      "[W] [15:50:33.863631] Maximum iterations reached before solver is converged. To increase model accuracy you can increase the number of iterations (max_iter) or improve the scaling of the input data.\n",
      "\n",
      "Accuracy: 0.8254\n",
      "Micro-Averaged F1: 0.8218\n",
      "Macro-Averaged F1: 0.8215\n",
      "\n",
      "Augmentations: {'token_length': False, 'patient_demographics': False, 'mds_updrs': True, 'moca': True}\n",
      "Parameters updated...\n",
      "Randomly sampling 5 sets with size -1 from train set...\n"
     ]
    },
    {
     "name": "stderr",
     "output_type": "stream",
     "text": [
      "\r",
      " 94%|█████████▍| 45/48 [13:08<00:48, 16.24s/it]"
     ]
    },
    {
     "name": "stdout",
     "output_type": "stream",
     "text": [
      "\n",
      "Accuracy: 0.8169\n",
      "Micro-Averaged F1: 0.8159\n",
      "Macro-Averaged F1: 0.8161\n",
      "\n",
      "Augmentations: {'token_length': False, 'patient_demographics': False, 'mds_updrs': True, 'moca': False}\n",
      "Parameters updated...\n",
      "Randomly sampling 5 sets with size -1 from train set...\n"
     ]
    },
    {
     "name": "stderr",
     "output_type": "stream",
     "text": [
      "\r",
      " 96%|█████████▌| 46/48 [13:23<00:32, 16.08s/it]"
     ]
    },
    {
     "name": "stdout",
     "output_type": "stream",
     "text": [
      "\n",
      "Accuracy: 0.7127\n",
      "Micro-Averaged F1: 0.7052\n",
      "Macro-Averaged F1: 0.7054\n",
      "\n",
      "Augmentations: {'token_length': False, 'patient_demographics': False, 'mds_updrs': False, 'moca': True}\n",
      "Parameters updated...\n",
      "Randomly sampling 5 sets with size -1 from train set...\n"
     ]
    },
    {
     "name": "stderr",
     "output_type": "stream",
     "text": [
      "\r",
      " 98%|█████████▊| 47/48 [13:40<00:16, 16.12s/it]"
     ]
    },
    {
     "name": "stdout",
     "output_type": "stream",
     "text": [
      "\n",
      "Accuracy: 0.8225\n",
      "Micro-Averaged F1: 0.8195\n",
      "Macro-Averaged F1: 0.8191\n",
      "\n",
      "Augmentations: {'token_length': False, 'patient_demographics': False, 'mds_updrs': False, 'moca': False}\n",
      "Parameters updated...\n",
      "Randomly sampling 5 sets with size -1 from train set...\n"
     ]
    },
    {
     "name": "stderr",
     "output_type": "stream",
     "text": [
      "100%|██████████| 48/48 [13:54<00:00, 17.38s/it]"
     ]
    },
    {
     "name": "stdout",
     "output_type": "stream",
     "text": [
      "\n",
      "Accuracy: 0.6648\n",
      "Micro-Averaged F1: 0.6448\n",
      "Macro-Averaged F1: 0.6444\n"
     ]
    },
    {
     "name": "stderr",
     "output_type": "stream",
     "text": [
      "\n"
     ]
    }
   ],
   "source": [
    "ensemble_best_param_dict = {\n",
    "    'C': 2045.7891312130546,\n",
    "    'l1_ratio': 0.049833394439413,\n",
    "    'max_depth': 48.12718850106587,\n",
    "    'n_estimators': 97.06033604146855,\n",
    "    'penalty': 'elasticnet',\n",
    "    'rfc_weight': 0.855137554079295\n",
    "}\n",
    "\n",
    "# set sample size to -1 to bootstrap results\n",
    "sample_size = -1\n",
    "\n",
    "n_replications = 3\n",
    "\n",
    "augment_cat_list = ['token_length', 'patient_demographics', 'mds_updrs', 'moca']\n",
    "level_list = [True, False]\n",
    "\n",
    "eval_list = []\n",
    "\n",
    "# iterate over all factor combinations and repeat all n_replications times\n",
    "for curr_level_list in tqdm(list(product(level_list, repeat=len(augment_cat_list)))*n_replications):\n",
    "    # build current augmentation dict\n",
    "    curr_aug_dict = dict(zip(augment_cat_list, curr_level_list))\n",
    "    \n",
    "    print(f\"\\nAugmentations: {curr_aug_dict}\")\n",
    "    \n",
    "    # update model params\n",
    "    hparam_optimizer.set_params(\n",
    "        ngram_list=ngram_list, \n",
    "        target_feature=target_feature, \n",
    "        vector_type=vector_type, \n",
    "        n_features=n_features, \n",
    "        augment_dict=curr_aug_dict, \n",
    "        seed=seed,\n",
    "        k=k,\n",
    "        constant_dict=constant_dict\n",
    "    )\n",
    "    \n",
    "    # train and evaluate model\n",
    "    acc, micro_f1, macro_f1 = hparam_optimizer.objective_function(\n",
    "        ensemble_best_param_dict, \n",
    "        sample_size=sample_size, \n",
    "        log=False, \n",
    "        return_all=True,\n",
    "        rfc=True\n",
    "    )\n",
    "    eval_list.append(\n",
    "        AblationEvalObj(\n",
    "            token_length=curr_aug_dict['token_length'],\n",
    "            patient_demographics=curr_aug_dict['token_length'],\n",
    "            mds_updrs=curr_aug_dict['mds_updrs'],\n",
    "            moca=curr_aug_dict['moca'], \n",
    "            acc=acc, \n",
    "            micro_f1=micro_f1, \n",
    "            macro_f1=macro_f1\n",
    "        )\n",
    "    )"
   ]
  },
  {
   "cell_type": "code",
   "execution_count": 7,
   "id": "1f585c65",
   "metadata": {},
   "outputs": [
    {
     "data": {
      "text/html": [
       "<div>\n",
       "<style scoped>\n",
       "    .dataframe tbody tr th:only-of-type {\n",
       "        vertical-align: middle;\n",
       "    }\n",
       "\n",
       "    .dataframe tbody tr th {\n",
       "        vertical-align: top;\n",
       "    }\n",
       "\n",
       "    .dataframe thead th {\n",
       "        text-align: right;\n",
       "    }\n",
       "</style>\n",
       "<table border=\"1\" class=\"dataframe\">\n",
       "  <thead>\n",
       "    <tr style=\"text-align: right;\">\n",
       "      <th></th>\n",
       "      <th>token_length</th>\n",
       "      <th>patient_demographics</th>\n",
       "      <th>mds_updrs</th>\n",
       "      <th>moca</th>\n",
       "      <th>acc</th>\n",
       "      <th>micro_f1</th>\n",
       "      <th>macro_f1</th>\n",
       "    </tr>\n",
       "  </thead>\n",
       "  <tbody>\n",
       "    <tr>\n",
       "      <th>0</th>\n",
       "      <td>True</td>\n",
       "      <td>True</td>\n",
       "      <td>True</td>\n",
       "      <td>True</td>\n",
       "      <td>0.867606</td>\n",
       "      <td>0.864553</td>\n",
       "      <td>0.863915</td>\n",
       "    </tr>\n",
       "    <tr>\n",
       "      <th>1</th>\n",
       "      <td>True</td>\n",
       "      <td>True</td>\n",
       "      <td>True</td>\n",
       "      <td>False</td>\n",
       "      <td>0.845070</td>\n",
       "      <td>0.843304</td>\n",
       "      <td>0.842623</td>\n",
       "    </tr>\n",
       "    <tr>\n",
       "      <th>2</th>\n",
       "      <td>True</td>\n",
       "      <td>True</td>\n",
       "      <td>False</td>\n",
       "      <td>True</td>\n",
       "      <td>0.898592</td>\n",
       "      <td>0.900552</td>\n",
       "      <td>0.900593</td>\n",
       "    </tr>\n",
       "    <tr>\n",
       "      <th>3</th>\n",
       "      <td>True</td>\n",
       "      <td>True</td>\n",
       "      <td>False</td>\n",
       "      <td>False</td>\n",
       "      <td>0.814085</td>\n",
       "      <td>0.810344</td>\n",
       "      <td>0.809766</td>\n",
       "    </tr>\n",
       "    <tr>\n",
       "      <th>4</th>\n",
       "      <td>True</td>\n",
       "      <td>True</td>\n",
       "      <td>True</td>\n",
       "      <td>True</td>\n",
       "      <td>0.808451</td>\n",
       "      <td>0.802325</td>\n",
       "      <td>0.802504</td>\n",
       "    </tr>\n",
       "    <tr>\n",
       "      <th>5</th>\n",
       "      <td>True</td>\n",
       "      <td>True</td>\n",
       "      <td>True</td>\n",
       "      <td>False</td>\n",
       "      <td>0.676056</td>\n",
       "      <td>0.676056</td>\n",
       "      <td>0.674984</td>\n",
       "    </tr>\n",
       "    <tr>\n",
       "      <th>6</th>\n",
       "      <td>True</td>\n",
       "      <td>True</td>\n",
       "      <td>False</td>\n",
       "      <td>True</td>\n",
       "      <td>0.811268</td>\n",
       "      <td>0.803519</td>\n",
       "      <td>0.803505</td>\n",
       "    </tr>\n",
       "    <tr>\n",
       "      <th>7</th>\n",
       "      <td>True</td>\n",
       "      <td>True</td>\n",
       "      <td>False</td>\n",
       "      <td>False</td>\n",
       "      <td>0.653521</td>\n",
       "      <td>0.645533</td>\n",
       "      <td>0.645528</td>\n",
       "    </tr>\n",
       "    <tr>\n",
       "      <th>8</th>\n",
       "      <td>False</td>\n",
       "      <td>False</td>\n",
       "      <td>True</td>\n",
       "      <td>True</td>\n",
       "      <td>0.867606</td>\n",
       "      <td>0.865329</td>\n",
       "      <td>0.865225</td>\n",
       "    </tr>\n",
       "    <tr>\n",
       "      <th>9</th>\n",
       "      <td>False</td>\n",
       "      <td>False</td>\n",
       "      <td>True</td>\n",
       "      <td>False</td>\n",
       "      <td>0.847887</td>\n",
       "      <td>0.845714</td>\n",
       "      <td>0.845444</td>\n",
       "    </tr>\n",
       "    <tr>\n",
       "      <th>10</th>\n",
       "      <td>False</td>\n",
       "      <td>False</td>\n",
       "      <td>False</td>\n",
       "      <td>True</td>\n",
       "      <td>0.887324</td>\n",
       "      <td>0.886363</td>\n",
       "      <td>0.886430</td>\n",
       "    </tr>\n",
       "    <tr>\n",
       "      <th>11</th>\n",
       "      <td>False</td>\n",
       "      <td>False</td>\n",
       "      <td>False</td>\n",
       "      <td>False</td>\n",
       "      <td>0.808451</td>\n",
       "      <td>0.801169</td>\n",
       "      <td>0.800077</td>\n",
       "    </tr>\n",
       "    <tr>\n",
       "      <th>12</th>\n",
       "      <td>False</td>\n",
       "      <td>False</td>\n",
       "      <td>True</td>\n",
       "      <td>True</td>\n",
       "      <td>0.819718</td>\n",
       "      <td>0.811764</td>\n",
       "      <td>0.812196</td>\n",
       "    </tr>\n",
       "    <tr>\n",
       "      <th>13</th>\n",
       "      <td>False</td>\n",
       "      <td>False</td>\n",
       "      <td>True</td>\n",
       "      <td>False</td>\n",
       "      <td>0.704225</td>\n",
       "      <td>0.695652</td>\n",
       "      <td>0.696310</td>\n",
       "    </tr>\n",
       "    <tr>\n",
       "      <th>14</th>\n",
       "      <td>False</td>\n",
       "      <td>False</td>\n",
       "      <td>False</td>\n",
       "      <td>True</td>\n",
       "      <td>0.825352</td>\n",
       "      <td>0.822857</td>\n",
       "      <td>0.822920</td>\n",
       "    </tr>\n",
       "    <tr>\n",
       "      <th>15</th>\n",
       "      <td>False</td>\n",
       "      <td>False</td>\n",
       "      <td>False</td>\n",
       "      <td>False</td>\n",
       "      <td>0.667606</td>\n",
       "      <td>0.660919</td>\n",
       "      <td>0.659545</td>\n",
       "    </tr>\n",
       "    <tr>\n",
       "      <th>16</th>\n",
       "      <td>True</td>\n",
       "      <td>True</td>\n",
       "      <td>True</td>\n",
       "      <td>True</td>\n",
       "      <td>0.847887</td>\n",
       "      <td>0.840236</td>\n",
       "      <td>0.839626</td>\n",
       "    </tr>\n",
       "    <tr>\n",
       "      <th>17</th>\n",
       "      <td>True</td>\n",
       "      <td>True</td>\n",
       "      <td>True</td>\n",
       "      <td>False</td>\n",
       "      <td>0.830986</td>\n",
       "      <td>0.829545</td>\n",
       "      <td>0.829537</td>\n",
       "    </tr>\n",
       "    <tr>\n",
       "      <th>18</th>\n",
       "      <td>True</td>\n",
       "      <td>True</td>\n",
       "      <td>False</td>\n",
       "      <td>True</td>\n",
       "      <td>0.878873</td>\n",
       "      <td>0.878873</td>\n",
       "      <td>0.878764</td>\n",
       "    </tr>\n",
       "    <tr>\n",
       "      <th>19</th>\n",
       "      <td>True</td>\n",
       "      <td>True</td>\n",
       "      <td>False</td>\n",
       "      <td>False</td>\n",
       "      <td>0.819718</td>\n",
       "      <td>0.811764</td>\n",
       "      <td>0.811269</td>\n",
       "    </tr>\n",
       "    <tr>\n",
       "      <th>20</th>\n",
       "      <td>True</td>\n",
       "      <td>True</td>\n",
       "      <td>True</td>\n",
       "      <td>True</td>\n",
       "      <td>0.783099</td>\n",
       "      <td>0.780626</td>\n",
       "      <td>0.780895</td>\n",
       "    </tr>\n",
       "    <tr>\n",
       "      <th>21</th>\n",
       "      <td>True</td>\n",
       "      <td>True</td>\n",
       "      <td>True</td>\n",
       "      <td>False</td>\n",
       "      <td>0.704225</td>\n",
       "      <td>0.697406</td>\n",
       "      <td>0.697366</td>\n",
       "    </tr>\n",
       "    <tr>\n",
       "      <th>22</th>\n",
       "      <td>True</td>\n",
       "      <td>True</td>\n",
       "      <td>False</td>\n",
       "      <td>True</td>\n",
       "      <td>0.814085</td>\n",
       "      <td>0.805882</td>\n",
       "      <td>0.806301</td>\n",
       "    </tr>\n",
       "    <tr>\n",
       "      <th>23</th>\n",
       "      <td>True</td>\n",
       "      <td>True</td>\n",
       "      <td>False</td>\n",
       "      <td>False</td>\n",
       "      <td>0.664789</td>\n",
       "      <td>0.655072</td>\n",
       "      <td>0.655311</td>\n",
       "    </tr>\n",
       "    <tr>\n",
       "      <th>24</th>\n",
       "      <td>False</td>\n",
       "      <td>False</td>\n",
       "      <td>True</td>\n",
       "      <td>True</td>\n",
       "      <td>0.859155</td>\n",
       "      <td>0.856321</td>\n",
       "      <td>0.855869</td>\n",
       "    </tr>\n",
       "    <tr>\n",
       "      <th>25</th>\n",
       "      <td>False</td>\n",
       "      <td>False</td>\n",
       "      <td>True</td>\n",
       "      <td>False</td>\n",
       "      <td>0.856338</td>\n",
       "      <td>0.853868</td>\n",
       "      <td>0.853479</td>\n",
       "    </tr>\n",
       "    <tr>\n",
       "      <th>26</th>\n",
       "      <td>False</td>\n",
       "      <td>False</td>\n",
       "      <td>False</td>\n",
       "      <td>True</td>\n",
       "      <td>0.878873</td>\n",
       "      <td>0.876080</td>\n",
       "      <td>0.875322</td>\n",
       "    </tr>\n",
       "    <tr>\n",
       "      <th>27</th>\n",
       "      <td>False</td>\n",
       "      <td>False</td>\n",
       "      <td>False</td>\n",
       "      <td>False</td>\n",
       "      <td>0.850704</td>\n",
       "      <td>0.847262</td>\n",
       "      <td>0.847287</td>\n",
       "    </tr>\n",
       "    <tr>\n",
       "      <th>28</th>\n",
       "      <td>False</td>\n",
       "      <td>False</td>\n",
       "      <td>True</td>\n",
       "      <td>True</td>\n",
       "      <td>0.814085</td>\n",
       "      <td>0.810344</td>\n",
       "      <td>0.810421</td>\n",
       "    </tr>\n",
       "    <tr>\n",
       "      <th>29</th>\n",
       "      <td>False</td>\n",
       "      <td>False</td>\n",
       "      <td>True</td>\n",
       "      <td>False</td>\n",
       "      <td>0.692958</td>\n",
       "      <td>0.684057</td>\n",
       "      <td>0.684087</td>\n",
       "    </tr>\n",
       "    <tr>\n",
       "      <th>30</th>\n",
       "      <td>False</td>\n",
       "      <td>False</td>\n",
       "      <td>False</td>\n",
       "      <td>True</td>\n",
       "      <td>0.816901</td>\n",
       "      <td>0.807121</td>\n",
       "      <td>0.805603</td>\n",
       "    </tr>\n",
       "    <tr>\n",
       "      <th>31</th>\n",
       "      <td>False</td>\n",
       "      <td>False</td>\n",
       "      <td>False</td>\n",
       "      <td>False</td>\n",
       "      <td>0.692958</td>\n",
       "      <td>0.674626</td>\n",
       "      <td>0.676419</td>\n",
       "    </tr>\n",
       "    <tr>\n",
       "      <th>32</th>\n",
       "      <td>True</td>\n",
       "      <td>True</td>\n",
       "      <td>True</td>\n",
       "      <td>True</td>\n",
       "      <td>0.873239</td>\n",
       "      <td>0.869565</td>\n",
       "      <td>0.869781</td>\n",
       "    </tr>\n",
       "    <tr>\n",
       "      <th>33</th>\n",
       "      <td>True</td>\n",
       "      <td>True</td>\n",
       "      <td>True</td>\n",
       "      <td>False</td>\n",
       "      <td>0.822535</td>\n",
       "      <td>0.819484</td>\n",
       "      <td>0.819363</td>\n",
       "    </tr>\n",
       "    <tr>\n",
       "      <th>34</th>\n",
       "      <td>True</td>\n",
       "      <td>True</td>\n",
       "      <td>False</td>\n",
       "      <td>True</td>\n",
       "      <td>0.876056</td>\n",
       "      <td>0.872832</td>\n",
       "      <td>0.872505</td>\n",
       "    </tr>\n",
       "    <tr>\n",
       "      <th>35</th>\n",
       "      <td>True</td>\n",
       "      <td>True</td>\n",
       "      <td>False</td>\n",
       "      <td>False</td>\n",
       "      <td>0.802817</td>\n",
       "      <td>0.795321</td>\n",
       "      <td>0.795311</td>\n",
       "    </tr>\n",
       "    <tr>\n",
       "      <th>36</th>\n",
       "      <td>True</td>\n",
       "      <td>True</td>\n",
       "      <td>True</td>\n",
       "      <td>True</td>\n",
       "      <td>0.825352</td>\n",
       "      <td>0.815476</td>\n",
       "      <td>0.814699</td>\n",
       "    </tr>\n",
       "    <tr>\n",
       "      <th>37</th>\n",
       "      <td>True</td>\n",
       "      <td>True</td>\n",
       "      <td>True</td>\n",
       "      <td>False</td>\n",
       "      <td>0.676056</td>\n",
       "      <td>0.664723</td>\n",
       "      <td>0.664345</td>\n",
       "    </tr>\n",
       "    <tr>\n",
       "      <th>38</th>\n",
       "      <td>True</td>\n",
       "      <td>True</td>\n",
       "      <td>False</td>\n",
       "      <td>True</td>\n",
       "      <td>0.797183</td>\n",
       "      <td>0.786982</td>\n",
       "      <td>0.786539</td>\n",
       "    </tr>\n",
       "    <tr>\n",
       "      <th>39</th>\n",
       "      <td>True</td>\n",
       "      <td>True</td>\n",
       "      <td>False</td>\n",
       "      <td>False</td>\n",
       "      <td>0.647887</td>\n",
       "      <td>0.645892</td>\n",
       "      <td>0.646190</td>\n",
       "    </tr>\n",
       "    <tr>\n",
       "      <th>40</th>\n",
       "      <td>False</td>\n",
       "      <td>False</td>\n",
       "      <td>True</td>\n",
       "      <td>True</td>\n",
       "      <td>0.884507</td>\n",
       "      <td>0.884507</td>\n",
       "      <td>0.884303</td>\n",
       "    </tr>\n",
       "    <tr>\n",
       "      <th>41</th>\n",
       "      <td>False</td>\n",
       "      <td>False</td>\n",
       "      <td>True</td>\n",
       "      <td>False</td>\n",
       "      <td>0.825352</td>\n",
       "      <td>0.821839</td>\n",
       "      <td>0.820339</td>\n",
       "    </tr>\n",
       "    <tr>\n",
       "      <th>42</th>\n",
       "      <td>False</td>\n",
       "      <td>False</td>\n",
       "      <td>False</td>\n",
       "      <td>True</td>\n",
       "      <td>0.898592</td>\n",
       "      <td>0.898876</td>\n",
       "      <td>0.898181</td>\n",
       "    </tr>\n",
       "    <tr>\n",
       "      <th>43</th>\n",
       "      <td>False</td>\n",
       "      <td>False</td>\n",
       "      <td>False</td>\n",
       "      <td>False</td>\n",
       "      <td>0.825352</td>\n",
       "      <td>0.821839</td>\n",
       "      <td>0.821528</td>\n",
       "    </tr>\n",
       "    <tr>\n",
       "      <th>44</th>\n",
       "      <td>False</td>\n",
       "      <td>False</td>\n",
       "      <td>True</td>\n",
       "      <td>True</td>\n",
       "      <td>0.816901</td>\n",
       "      <td>0.815864</td>\n",
       "      <td>0.816139</td>\n",
       "    </tr>\n",
       "    <tr>\n",
       "      <th>45</th>\n",
       "      <td>False</td>\n",
       "      <td>False</td>\n",
       "      <td>True</td>\n",
       "      <td>False</td>\n",
       "      <td>0.712676</td>\n",
       "      <td>0.705202</td>\n",
       "      <td>0.705360</td>\n",
       "    </tr>\n",
       "    <tr>\n",
       "      <th>46</th>\n",
       "      <td>False</td>\n",
       "      <td>False</td>\n",
       "      <td>False</td>\n",
       "      <td>True</td>\n",
       "      <td>0.822535</td>\n",
       "      <td>0.819484</td>\n",
       "      <td>0.819129</td>\n",
       "    </tr>\n",
       "    <tr>\n",
       "      <th>47</th>\n",
       "      <td>False</td>\n",
       "      <td>False</td>\n",
       "      <td>False</td>\n",
       "      <td>False</td>\n",
       "      <td>0.664789</td>\n",
       "      <td>0.644776</td>\n",
       "      <td>0.644385</td>\n",
       "    </tr>\n",
       "  </tbody>\n",
       "</table>\n",
       "</div>"
      ],
      "text/plain": [
       "    token_length  patient_demographics  mds_updrs   moca       acc  micro_f1  \\\n",
       "0           True                  True       True   True  0.867606  0.864553   \n",
       "1           True                  True       True  False  0.845070  0.843304   \n",
       "2           True                  True      False   True  0.898592  0.900552   \n",
       "3           True                  True      False  False  0.814085  0.810344   \n",
       "4           True                  True       True   True  0.808451  0.802325   \n",
       "5           True                  True       True  False  0.676056  0.676056   \n",
       "6           True                  True      False   True  0.811268  0.803519   \n",
       "7           True                  True      False  False  0.653521  0.645533   \n",
       "8          False                 False       True   True  0.867606  0.865329   \n",
       "9          False                 False       True  False  0.847887  0.845714   \n",
       "10         False                 False      False   True  0.887324  0.886363   \n",
       "11         False                 False      False  False  0.808451  0.801169   \n",
       "12         False                 False       True   True  0.819718  0.811764   \n",
       "13         False                 False       True  False  0.704225  0.695652   \n",
       "14         False                 False      False   True  0.825352  0.822857   \n",
       "15         False                 False      False  False  0.667606  0.660919   \n",
       "16          True                  True       True   True  0.847887  0.840236   \n",
       "17          True                  True       True  False  0.830986  0.829545   \n",
       "18          True                  True      False   True  0.878873  0.878873   \n",
       "19          True                  True      False  False  0.819718  0.811764   \n",
       "20          True                  True       True   True  0.783099  0.780626   \n",
       "21          True                  True       True  False  0.704225  0.697406   \n",
       "22          True                  True      False   True  0.814085  0.805882   \n",
       "23          True                  True      False  False  0.664789  0.655072   \n",
       "24         False                 False       True   True  0.859155  0.856321   \n",
       "25         False                 False       True  False  0.856338  0.853868   \n",
       "26         False                 False      False   True  0.878873  0.876080   \n",
       "27         False                 False      False  False  0.850704  0.847262   \n",
       "28         False                 False       True   True  0.814085  0.810344   \n",
       "29         False                 False       True  False  0.692958  0.684057   \n",
       "30         False                 False      False   True  0.816901  0.807121   \n",
       "31         False                 False      False  False  0.692958  0.674626   \n",
       "32          True                  True       True   True  0.873239  0.869565   \n",
       "33          True                  True       True  False  0.822535  0.819484   \n",
       "34          True                  True      False   True  0.876056  0.872832   \n",
       "35          True                  True      False  False  0.802817  0.795321   \n",
       "36          True                  True       True   True  0.825352  0.815476   \n",
       "37          True                  True       True  False  0.676056  0.664723   \n",
       "38          True                  True      False   True  0.797183  0.786982   \n",
       "39          True                  True      False  False  0.647887  0.645892   \n",
       "40         False                 False       True   True  0.884507  0.884507   \n",
       "41         False                 False       True  False  0.825352  0.821839   \n",
       "42         False                 False      False   True  0.898592  0.898876   \n",
       "43         False                 False      False  False  0.825352  0.821839   \n",
       "44         False                 False       True   True  0.816901  0.815864   \n",
       "45         False                 False       True  False  0.712676  0.705202   \n",
       "46         False                 False      False   True  0.822535  0.819484   \n",
       "47         False                 False      False  False  0.664789  0.644776   \n",
       "\n",
       "    macro_f1  \n",
       "0   0.863915  \n",
       "1   0.842623  \n",
       "2   0.900593  \n",
       "3   0.809766  \n",
       "4   0.802504  \n",
       "5   0.674984  \n",
       "6   0.803505  \n",
       "7   0.645528  \n",
       "8   0.865225  \n",
       "9   0.845444  \n",
       "10  0.886430  \n",
       "11  0.800077  \n",
       "12  0.812196  \n",
       "13  0.696310  \n",
       "14  0.822920  \n",
       "15  0.659545  \n",
       "16  0.839626  \n",
       "17  0.829537  \n",
       "18  0.878764  \n",
       "19  0.811269  \n",
       "20  0.780895  \n",
       "21  0.697366  \n",
       "22  0.806301  \n",
       "23  0.655311  \n",
       "24  0.855869  \n",
       "25  0.853479  \n",
       "26  0.875322  \n",
       "27  0.847287  \n",
       "28  0.810421  \n",
       "29  0.684087  \n",
       "30  0.805603  \n",
       "31  0.676419  \n",
       "32  0.869781  \n",
       "33  0.819363  \n",
       "34  0.872505  \n",
       "35  0.795311  \n",
       "36  0.814699  \n",
       "37  0.664345  \n",
       "38  0.786539  \n",
       "39  0.646190  \n",
       "40  0.884303  \n",
       "41  0.820339  \n",
       "42  0.898181  \n",
       "43  0.821528  \n",
       "44  0.816139  \n",
       "45  0.705360  \n",
       "46  0.819129  \n",
       "47  0.644385  "
      ]
     },
     "execution_count": 7,
     "metadata": {},
     "output_type": "execute_result"
    }
   ],
   "source": [
    "eval_df = pd.DataFrame([eval_obj.dict() for eval_obj in eval_list])\n",
    "eval_df"
   ]
  },
  {
   "cell_type": "code",
   "execution_count": 8,
   "id": "04b85dd9",
   "metadata": {},
   "outputs": [],
   "source": [
    "eval_df.to_csv(\"./ablation_study_results.csv\")"
   ]
  },
  {
   "cell_type": "code",
   "execution_count": 15,
   "id": "35e7bed5",
   "metadata": {},
   "outputs": [
    {
     "data": {
      "text/plain": [
       "48"
      ]
     },
     "execution_count": 15,
     "metadata": {},
     "output_type": "execute_result"
    }
   ],
   "source": [
    "len(list(product(level_list, repeat=len(augment_cat_list)))*3)"
   ]
  },
  {
   "cell_type": "code",
   "execution_count": null,
   "id": "6ee81928",
   "metadata": {},
   "outputs": [],
   "source": []
  }
 ],
 "metadata": {
  "kernelspec": {
   "display_name": "rapids",
   "language": "python",
   "name": "rapids"
  },
  "language_info": {
   "codemirror_mode": {
    "name": "ipython",
    "version": 3
   },
   "file_extension": ".py",
   "mimetype": "text/x-python",
   "name": "python",
   "nbconvert_exporter": "python",
   "pygments_lexer": "ipython3",
   "version": "3.9.18"
  }
 },
 "nbformat": 4,
 "nbformat_minor": 5
}
